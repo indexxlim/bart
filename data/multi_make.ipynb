{
 "cells": [
  {
   "cell_type": "code",
   "execution_count": 1,
   "id": "9143a800-c62e-442c-881c-5d828024fc7d",
   "metadata": {},
   "outputs": [],
   "source": [
    "%load_ext autoreload\n",
    "%autoreload 2"
   ]
  },
  {
   "cell_type": "code",
   "execution_count": 2,
   "id": "70052f6a-0b1f-47f1-a31d-2a37325d29a6",
   "metadata": {},
   "outputs": [],
   "source": [
    "import os\n",
    "import argparse\n",
    "\n",
    "import torch\n",
    "#from tokenization_hanbert import HanBertTokenizer\n",
    "import pandas as pd\n",
    "import numpy as np\n",
    "import collections\n",
    "import h5py\n",
    "#from dataloader import KoreanDataset, KoreanBatchGenerator, get_dataloader\n",
    "from tqdm.notebook import tqdm\n",
    "import multiprocessing\n",
    "\n",
    "from make_h5py import sharding_h5py"
   ]
  },
  {
   "cell_type": "code",
   "execution_count": 11,
   "id": "d466b96d-f92e-4d04-b8cc-ed9756a4469a",
   "metadata": {},
   "outputs": [],
   "source": [
    "#path = 'bart_corpus/'\n",
    "output_path ='sharding_corpus/'\n",
    "\n",
    "#num_divided=374439\n",
    "#ip=2536266\n",
    "\n",
    "num_divided=281600\n",
    "ip_lengths=int(4700000/2)\n"
   ]
  },
  {
   "cell_type": "code",
   "execution_count": 12,
   "id": "0f1136e8-c814-4b21-84db-895112b2bbc6",
   "metadata": {},
   "outputs": [
    {
     "data": {
      "text/plain": [
       "2350000"
      ]
     },
     "execution_count": 12,
     "metadata": {},
     "output_type": "execute_result"
    }
   ],
   "source": [
    "ip_lengths"
   ]
  },
  {
   "cell_type": "code",
   "execution_count": 13,
   "id": "450eae63-36af-4d7e-9395-72f0e5975361",
   "metadata": {},
   "outputs": [],
   "source": [
    "def write_single_shard(shard_name, file):\n",
    "    with open(shard_name, mode='w') as f:\n",
    "        f.writelines(file)  # Line break between articles"
   ]
  },
  {
   "cell_type": "code",
   "execution_count": 14,
   "id": "1086d6a8-8665-43e0-b83c-0568144c3e23",
   "metadata": {},
   "outputs": [],
   "source": [
    "from google.cloud import storage\n",
    "client = storage.Client()\n",
    "bucket = storage.Bucket(client, \"hanbart_bucket\")\n",
    "all_blobs = list(client.list_blobs(bucket, prefix='bart_corpus_512'))"
   ]
  },
  {
   "cell_type": "code",
   "execution_count": 18,
   "id": "34240211-96a1-42f2-9a8f-50706eea8368",
   "metadata": {},
   "outputs": [
    {
     "data": {
      "text/plain": [
       "<Blob: hanbart_bucket, bart_corpus_512/bartip-2.selected.txt, 1635473634037316>"
      ]
     },
     "execution_count": 18,
     "metadata": {},
     "output_type": "execute_result"
    }
   ],
   "source": [
    "all_blobs[12]"
   ]
  },
  {
   "cell_type": "code",
   "execution_count": 19,
   "id": "d8f70a43-b97e-4f0c-a850-2522aa39fda3",
   "metadata": {},
   "outputs": [
    {
     "name": "stdout",
     "output_type": "stream",
     "text": [
      "bart_corpus_512/bart100dic_doosan.step2.txt 0\n",
      "231254\n",
      "bart_corpus_512/bart100dic_pascal.step2.txt 1\n",
      "380625\n",
      "bart_corpus_512/bartNIKL_NEWSPAPER.txt 2\n",
      "25245151\n",
      "bart_corpus_512/bartNIKL_WRITTEN.txt 3\n",
      "12045193\n",
      "bart_corpus_512/bartblog1-out.txt 4\n",
      "1000272\n",
      "bart_corpus_512/bartblog2-out.txt 5\n",
      "167416\n",
      "bart_corpus_512/bartbooks-out.txt 6\n",
      "1461852\n",
      "bart_corpus_512/bartcafe-out.txt 7\n",
      "374760\n",
      "bart_corpus_512/bartcampus-out.txt 8\n",
      "320620\n",
      "bart_corpus_512/bartclinic-out.txt 9\n",
      "40135\n",
      "bart_corpus_512/bartdart-10.12.out.txt 10\n",
      "3292704\n",
      "bart_corpus_512/bartip-1.selected.txt 11\n",
      "mount of bart_corpus_512/bartip-1.selected.txt is 2350000 (cur lines is 195104)\n",
      "2545104\n",
      "bart_corpus_512/bartip-2.selected.txt 12\n",
      "mount of bart_corpus_512/bartip-2.selected.txt is 2350000 (cur lines is 10704)\n",
      "2360704\n",
      "bart_corpus_512/bartkowiki-2019-out.txt 13\n",
      "1589120\n",
      "bart_corpus_512/bartlaw-out.txt 14\n",
      "207375\n",
      "bart_corpus_512/bartlife-out.txt 15\n",
      "292879\n",
      "bart_corpus_512/bartnamu-2019-out.txt 16\n",
      "2682665\n",
      "bart_corpus_512/bartnews-1997-out.txt 17\n",
      "564058\n",
      "bart_corpus_512/bartnews-2004-out.txt 18\n",
      "3213510\n",
      "bart_corpus_512/bartnews-2010-2019-out.txt 19\n",
      "13020988\n",
      "bart_corpus_512/bartnews-2019-out.txt 20\n",
      "2883526\n",
      "bart_corpus_512/bartnovel-adult-out.txt 21\n",
      "462127\n",
      "bart_corpus_512/bartnovel-out.txt 22\n",
      "203269\n"
     ]
    }
   ],
   "source": [
    "lines = []\n",
    "shard_file_index=0\n",
    "\n",
    "for blob_index, blob in enumerate(all_blobs):\n",
    "    print(blob.name, blob_index)\n",
    "    with blob.open(\"rt\") as f:\n",
    "        if blob_index==11 or blob_index==12:\n",
    "            print(f'mount of {blob.name} is {ip_lengths} (cur lines is {len(lines)})')\n",
    "            lines.extend(f.readlines()[:ip_lengths])\n",
    "        else:\n",
    "            lines.extend(f.readlines())\n",
    "    print(len(lines))\n",
    "\n",
    "    while(len(lines) > num_divided):\n",
    "        write_single_shard(output_path+f'bartcorpus_{str(shard_file_index).zfill(3)}.txt', lines[:num_divided])\n",
    "        del lines[:num_divided]\n",
    "        shard_file_index+=1\n",
    "write_single_shard(output_path+f'bartcorpus_{str(shard_file_index).zfill(3)}.txt', lines)        "
   ]
  },
  {
   "cell_type": "code",
   "execution_count": 23,
   "id": "c8701d95-55da-4f12-addd-58dceeaefe82",
   "metadata": {},
   "outputs": [],
   "source": []
  },
  {
   "cell_type": "code",
   "execution_count": null,
   "id": "ca706d03-e537-4a3c-9534-92fa03f346a9",
   "metadata": {},
   "outputs": [],
   "source": []
  },
  {
   "cell_type": "code",
   "execution_count": null,
   "id": "1e178828-6c1c-447a-8aec-b87c9956b36a",
   "metadata": {},
   "outputs": [],
   "source": []
  },
  {
   "cell_type": "markdown",
   "id": "160f3464-a926-47f6-8ef6-53aaa08ad2b9",
   "metadata": {},
   "source": [
    "# Make h5py file"
   ]
  },
  {
   "cell_type": "code",
   "execution_count": 26,
   "id": "e80e016e-a22f-4939-abd8-432f5987cfcf",
   "metadata": {},
   "outputs": [],
   "source": [
    "import subprocess\n"
   ]
  },
  {
   "cell_type": "code",
   "execution_count": 27,
   "id": "d255f9c9-010d-40fc-bac9-72028f4d8efa",
   "metadata": {},
   "outputs": [],
   "source": [
    "shard_file_index=0"
   ]
  },
  {
   "cell_type": "code",
   "execution_count": null,
   "id": "534c179f-9050-4d8f-b54a-2f7d2edf667b",
   "metadata": {},
   "outputs": [],
   "source": []
  },
  {
   "cell_type": "code",
   "execution_count": 28,
   "id": "5c81f2bf-5613-4593-9180-d06745a3452c",
   "metadata": {},
   "outputs": [],
   "source": [
    "sharding_path = '/home/jisu/sharding_corpus/'\n",
    "h5py_path = \"/home/jisu/h5py_dataset/\"\n"
   ]
  },
  {
   "cell_type": "code",
   "execution_count": 34,
   "id": "0ee90a89-2fb4-4297-bf55-fbbbe268638f",
   "metadata": {},
   "outputs": [],
   "source": [
    "files = os.listdir(sharding_path)"
   ]
  },
  {
   "cell_type": "code",
   "execution_count": null,
   "id": "7baced3b-d29b-4c40-8921-732487ac7412",
   "metadata": {},
   "outputs": [],
   "source": []
  },
  {
   "cell_type": "code",
   "execution_count": 46,
   "id": "3f4b9832-954c-47b2-9651-07de80b39a92",
   "metadata": {},
   "outputs": [
    {
     "data": {
      "text/plain": [
       "1"
      ]
     },
     "execution_count": 46,
     "metadata": {},
     "output_type": "execute_result"
    }
   ],
   "source": [
    "n_processes = 8\n",
    "def create_record_worker(shard_file_index):\n",
    "    sharding_filename = f\"bartcorpus_{str(shard_file_index).zfill(3)}.txt\"\n",
    "    h5py_filename = f\"h5py_data_{str(shard_file_index).zfill(3)}\"\n",
    "\n",
    "    bart_preprocessing_command = 'python make_h5py.py'\n",
    "    bart_preprocessing_command += ' --input_file=' + sharding_path+sharding_filename\n",
    "    bart_preprocessing_command += ' --output_file=' + h5py_path+h5py_filename+'.h5py'\n",
    "\n",
    "    bert_preprocessing_process = subprocess.Popen(bart_preprocessing_command, shell=True)\n",
    "\n",
    "    last_process = bert_preprocessing_process\n",
    "\n",
    "    # This could be better optimized (fine if all take equal time)\n",
    "    if shard_file_index % n_processes == 0 and shard_file_index > 0:\n",
    "        bert_preprocessing_process.wait()\n",
    "    return last_process\n",
    "\n",
    "for i in range(1, len(files)):\n",
    "    last_process =create_record_worker(i)\n",
    "\n",
    "last_process.wait()\n"
   ]
  },
  {
   "cell_type": "code",
   "execution_count": null,
   "id": "a9c85e05-2294-4a57-b882-5fe0bd5fb1f5",
   "metadata": {},
   "outputs": [],
   "source": []
  },
  {
   "cell_type": "code",
   "execution_count": null,
   "id": "5f602c9e-7e49-482e-9af4-988977b3c236",
   "metadata": {},
   "outputs": [],
   "source": []
  },
  {
   "cell_type": "code",
   "execution_count": null,
   "id": "5e4dee4b-031a-44d5-97b5-89b78ecec8e5",
   "metadata": {},
   "outputs": [],
   "source": []
  }
 ],
 "metadata": {
  "kernelspec": {
   "display_name": "torch-xla-1.9",
   "language": "python",
   "name": "torch-xla-1.9"
  },
  "language_info": {
   "codemirror_mode": {
    "name": "ipython",
    "version": 3
   },
   "file_extension": ".py",
   "mimetype": "text/x-python",
   "name": "python",
   "nbconvert_exporter": "python",
   "pygments_lexer": "ipython3",
   "version": "3.7.10"
  }
 },
 "nbformat": 4,
 "nbformat_minor": 5
}
