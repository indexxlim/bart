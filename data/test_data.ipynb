{
 "cells": [
  {
   "cell_type": "code",
   "execution_count": 1,
   "id": "4f1915a8-bd40-4216-80f8-3b0f12199585",
   "metadata": {},
   "outputs": [],
   "source": [
    "import os\n",
    "import argparse\n",
    "\n",
    "import torch\n",
    "#from tokenization_hanbert import HanBertTokenizer\n",
    "import pandas as pd\n",
    "import numpy as np\n",
    "import collections\n",
    "import h5py\n",
    "#from dataloader import KoreanDataset, KoreanBatchGenerator, get_dataloader\n",
    "from tqdm.notebook import tqdm\n"
   ]
  },
  {
   "cell_type": "code",
   "execution_count": 2,
   "id": "33a0dd97-f8d5-42a6-90d2-33f36e2fe298",
   "metadata": {},
   "outputs": [
    {
     "name": "stderr",
     "output_type": "stream",
     "text": [
      "The tokenizer class you load from this checkpoint is not the same type as the class this function is called from. It may result in unexpected tokenization. \n",
      "The tokenizer class you load from this checkpoint is 'BartTokenizer'. \n",
      "The class this function is called from is 'HanBertTokenizer'.\n"
     ]
    }
   ],
   "source": [
    "from bart.tokenization_hanbert import HanBertTokenizer\n",
    "tokenizer = HanBertTokenizer.from_pretrained(\"bart/HanBart-54kN\")\n"
   ]
  },
  {
   "cell_type": "code",
   "execution_count": 3,
   "id": "f694ff4d-cde2-4958-a14e-d3350c28fe64",
   "metadata": {},
   "outputs": [],
   "source": [
    "test = \"\"\"시대가 변함에 따라 아동 폭력의 양상도 바뀌고 있다. 어른에 의해 발생하는 폭력뿐 아니라 또래관계에서 발생하는 폭력도 증가하고 있다. 특히, 인터넷 매체를 통한 언어적 괴롭힘 등 사이버 공간이 새로운 피해현장으로 등장했다. 피해현장에 놓여있는 아이들이 이런 사회변화의 심각성을 적극적으로 알리고 있다. \\u200b아동옹호대표기관 초록우산어린이재단(회장 이제훈)은 국제어린이재단연맹(ChildFund Alliance) 국가와 함께 아동폭력을 근절하기 위한 지속적인 노력을 이어나가고 있다. 대한민국에서는 초록우산어린이재단 서울아동옹호센터에서 2018년부터 아동폭력 옹호사업(Child Friendly Accountability, 이하 아동폭력 옹호사업)을 진행하며 아동이 스스로 아동폭력의 심각성을 알려 변화를 촉구하는 옹호활동을 이어나가고 있다. \\u200b이 활동의 일환으로, 지난 7월 10일(뉴욕 현지시간) 국제어린이재단연맹 중 아동폭력 옹호사업을 진행하는 4개의 국가(엘살바도르, 우간다, 파라과이, 대한민국)의 대표아동들이 UN을 방문했다. 해당 아동들은 UN HLPF(High Level Political Forum, 이하 고위급정치회담)에 참여하여 아동폭력의 심각성과 국제사회의 관심 및 해결을 촉구하는 시간을 가졌다. \\u200b대한민국 대표로 참석한 초록우산어린이재단 이윤서 아동(신수중 3)은 '우리나라에서는 아동폭력이 다른 나라와는 조금 다른 모습으로 나타나고 있다'며 세 가지 아동폭력 상황에 대해 설명했다. \\u200b대한민국에서 발생하는 아동폭력 상황은 먼저, 어른들이 교육, 훈육의 모습으로 아동에게 가하는 체벌에 대한 내용이다. 최근 정부에서 발표한 '포용국가 아동정책' 중에는 가정 내 체벌을 없애기 위해 민법상 친권자의 징계권을 개정하겠다는 내용이 포함됐다. 포럼에 참여한 이윤서 아동은 정부의 정책과 연결하여 '아이를 부모의 소유물이라고 생각하는 우리나라 사회 분위기가 먼저 바뀌어야 한다'며 인식개선의 필요성에 대한 의견을 전했다. \\u200b두 번째로 또래관계에서 발생하는 신체, 언어, 사이버폭력 심각하게는 성폭력을 예로 들었다. '학교 내에서는 또래관계에서 발생하는 폭력을 해결하기 위한 안전장치가 마련되어 있지만 실효성이 없다'며 대책 마련의 필요성을 공유했다. \\u200b마지막으로 지나친 학업과 좋은 성적을 중시하는 사회적 분위기를 꼽았다. '과도한 학업 경쟁으로 인해 한 학원에서는 부모의 동의를 구하고 체벌을 감행하는 경우도 있다'며 '치열해지는 경쟁 속에 친구를 경쟁자로 인식하게 만드는 사회 분위기가 변해야 한다'는 의견을 전했다. \\u200b이외에도 본 포럼에 함께 참여한 각 국의 아동대표들은 적극적인 목소리로 아동노동, 조혼, 인신매매 등 아동폭력 심각성을 알렸다. \\u200bUN 고위급정치회담(HLPF)은 2016년 9월, UN이 수립한 SDGs(Sustainable Development Goals, 이하 지속가능개발목표) 의제를 점검하는 회의로, 매년 7월 뉴욕에 위치한 UN 본부에서 진행된다. 특히 2019년은 '아동폭력 근절을 위한 전 지구적 협력 방안 모색(Building Momentum: working together for all children to live free from violence)'이라는 주제로 각국 정부 관계자, UN관계자, 학계, 시민사회 인사 등이 참석하여 아동들의 목소리가 더욱 의미 있게 전달될 수 있었다. \\u200bUN에서 진행된 고위급정치회담(HLPF) 일정을 함께 한 초록우산어린이재단 국제협력개발1본부 이성호본부장은 '올해는 유엔아동권리협약 비준 30주년을 맞이하는 뜻 깊은 해'라며 '우리의 현재이자, 지속 가능한 발전의 초석이 되는 아동이 직접 참여하여 이번 포럼이 더욱 뜻 깊었다'는 소감을 전했다. \\u200b초록우산어린이재단은 국제어린이재단연맹(ChildFund Alliance) 회원국과 함께 SDGs 16.2(지속가능개발목표, 아동폭력) 이슈를 해결하기 위해 UN 회원국가, UN 기관 등을 대상으로 지속적인 옹호활동을 전개해 나갈 예정이다.\"\"\""
   ]
  },
  {
   "cell_type": "code",
   "execution_count": 4,
   "id": "3cdf6303-80a4-4d38-b6ec-b5450d02f714",
   "metadata": {},
   "outputs": [
    {
     "data": {
      "text/plain": [
       "\"시대가 변함에 따라 아동 폭력의 양상도 바뀌고 있다. 어른에 의해 발생하는 폭력뿐 아니라 또래관계에서 발생하는 폭력도 증가하고 있다. 특히, 인터넷 매체를 통한 언어적 괴롭힘 등 사이버 공간이 새로운 피해현장으로 등장했다. 피해현장에 놓여있는 아이들이 이런 사회변화의 심각성을 적극적으로 알리고 있다. \\u200b아동옹호대표기관 초록우산어린이재단(회장 이제훈)은 국제어린이재단연맹(ChildFund Alliance) 국가와 함께 아동폭력을 근절하기 위한 지속적인 노력을 이어나가고 있다. 대한민국에서는 초록우산어린이재단 서울아동옹호센터에서 2018년부터 아동폭력 옹호사업(Child Friendly Accountability, 이하 아동폭력 옹호사업)을 진행하며 아동이 스스로 아동폭력의 심각성을 알려 변화를 촉구하는 옹호활동을 이어나가고 있다. \\u200b이 활동의 일환으로, 지난 7월 10일(뉴욕 현지시간) 국제어린이재단연맹 중 아동폭력 옹호사업을 진행하는 4개의 국가(엘살바도르, 우간다, 파라과이, 대한민국)의 대표아동들이 UN을 방문했다. 해당 아동들은 UN HLPF(High Level Political Forum, 이하 고위급정치회담)에 참여하여 아동폭력의 심각성과 국제사회의 관심 및 해결을 촉구하는 시간을 가졌다. \\u200b대한민국 대표로 참석한 초록우산어린이재단 이윤서 아동(신수중 3)은 '우리나라에서는 아동폭력이 다른 나라와는 조금 다른 모습으로 나타나고 있다'며 세 가지 아동폭력 상황에 대해 설명했다. \\u200b대한민국에서 발생하는 아동폭력 상황은 먼저, 어른들이 교육, 훈육의 모습으로 아동에게 가하는 체벌에 대한 내용이다. 최근 정부에서 발표한 '포용국가 아동정책' 중에는 가정 내 체벌을 없애기 위해 민법상 친권자의 징계권을 개정하겠다는 내용이 포함됐다. 포럼에 참여한 이윤서 아동은 정부의 정책과 연결하여 '아이를 부모의 소유물이라고 생각하는 우리나라 사회 분위기가 먼저 바뀌어야 한다'며 인식개선의 필요성에 대한 의견을 전했다. \\u200b두 번째로 또래관계에서 발생하는 신체, 언어, 사이버폭력 심각하게는 성폭력을 예로 들었다. '학교 내에서는 또래관계에서 발생하는 폭력을 해결하기 위한 안전장치가 마련되어 있지만 실효성이 없다'며 대책 마련의 필요성을 공유했다. \\u200b마지막으로 지나친 학업과 좋은 성적을 중시하는 사회적 분위기를 꼽았다. '과도한 학업 경쟁으로 인해 한 학원에서는 부모의 동의를 구하고 체벌을 감행하는 경우도 있다'며 '치열해지는 경쟁 속에 친구를 경쟁자로 인식하게 만드는 사회 분위기가 변해야 한다'는 의견을 전했다. \\u200b이외에도 본 포럼에 함께 참여한 각 국의 아동대표들은 적극적인 목소리로 아동노동, 조혼, 인신매매 등 아동폭력 심각성을 알렸다. \\u200bUN 고위급정치회담(HLPF)은 2016년 9월, UN이 수립한 SDGs(Sustainable Development Goals, 이하 지속가능개발목표) 의제를 점검하는 회의로, 매년 7월 뉴욕에 위치한 UN 본부에서 진행된다. 특히 2019년은 '아동폭력 근절을 위한 전 지구적 협력 방안 모색(Building Momentum: working together for all children to live free from violence)'이라는 주제로 각국 정부 관계자, UN관계자, 학계, 시민사회 인사 등이 참석하여 아동들의 목소리가 더욱 의미 있게 전달될 수 있었다. \\u200bUN에서 진행된 고위급정치회담(HLPF) 일정을 함께 한 초록우산어린이재단 국제협력개발1본부 이성호본부장은 '올해는 유엔아동권리협약 비준 30주년을 맞이하는 뜻 깊은 해'라며 '우리의 현재이자, 지속 가능한 발전의 초석이 되는 아동이 직접 참여하여 이번 포럼이 더욱 뜻 깊었다'는 소감을 전했다. \\u200b초록우산어린이재단은 국제어린이재단연맹(ChildFund Alliance) 회원국과 함께 SDGs 16.2(지속가능개발목표, 아동폭력) 이슈를 해결하기 위해 UN 회원국가, UN 기관 등을 대상으로 지속적인 옹호활동을 전개해 나갈 예정이다.\""
      ]
     },
     "execution_count": 4,
     "metadata": {},
     "output_type": "execute_result"
    }
   ],
   "source": [
    "test"
   ]
  },
  {
   "cell_type": "code",
   "execution_count": 5,
   "id": "b2be1f7b-e8d2-4aae-a176-40e55d0c24ca",
   "metadata": {},
   "outputs": [],
   "source": [
    "a = tokenizer.encode_plus(test,\n",
    "    padding='max_length', #'max_length'\n",
    "    max_length=512,\n",
    "    truncation=True,\n",
    "    #add_special_tokens=False,\n",
    "    return_tensors='np')['input_ids'][0]"
   ]
  },
  {
   "cell_type": "code",
   "execution_count": 6,
   "id": "81bf1607-4b3b-4f78-b749-9433592e07f0",
   "metadata": {},
   "outputs": [
    {
     "name": "stdout",
     "output_type": "stream",
     "text": [
      "512\n",
      "1947\n"
     ]
    }
   ],
   "source": [
    "print(len(a))\n",
    "print(len(test))"
   ]
  },
  {
   "cell_type": "code",
   "execution_count": 7,
   "id": "61efe8d0-61ad-4b1f-b661-41342d8f3301",
   "metadata": {},
   "outputs": [
    {
     "data": {
      "text/plain": [
       "\"[CLS] 시대가 변함에 따라 아동 폭력의 양상도 바뀌고 있다. 어른에 의해 발생하는 폭력뿐 아니라 또래관계에서 발생하는 폭력도 증가하고 있다. 특히, 인터넷 매체를 통한 언어적 괴롭힘 등 사이버 공간이 새로운 피해현장으로 등장했다. 피해현장에 놓여있는 아이들이 이런 사회변화의 심각성을 적극적으로 알리고 있다. 아동옹호대표기관 초록우산어린이재단 ( 회장 이제훈 ) 은 국제어린이재단연맹 ( childfund alliance ) 국가와 함께 아동폭력을 근절하기 위한 지속적인 노력을 이어나가고 있다. 대한민국에서는 초록우산어린이재단 서울아동옹호센터에서 2018년부터 아동폭력 옹호사업 ( child friendly accountability, 이하 아동폭력 옹호사업 ) 을 진행하며 아동이 스스로 아동폭력의 심각성을 알려 변화를 촉구하는 옹호활동을 이어나가고 있다. 이 활동의 일환으로, 지난 7월 10일 ( 뉴욕 현지시간 ) 국제어린이재단연맹 중 아동폭력 옹호사업을 진행하는 4개의 국가 ( 엘살바도르, 우간다, 파라과이, 대한민국 ) 의 대표아동들이 un을 방문했다. 해당 아동들은 un hlpf ( high level political forum, 이하 고위급정치회담 ) 에 참여하여 아동폭력의 심각성과 국제사회의 관심 및 해결을 촉구하는 시간을 가졌다. 대한민국 대표로 참석한 초록우산어린이재단 이윤서 아동 ( 신수중 3 ) 은'우리나라에서는 아동폭력이 다른 나라와는 조금 다른 모습으로 나타나고 있다'며 세 가지 아동폭력 상황에 대해 설명했다. 대한민국에서 발생하는 아동폭력 상황은 먼저, 어른들이 교육, 훈육의 모습으로 아동에게 가하는 체벌에 대한 내용이다. 최근 정부에서 발표한'포용국가 아동정책'중에는 가정 내 체벌을 없애기 위해 민법상 친권자의 징계권을 개정하겠다는 내용이 포함됐다. 포럼에 참여한 이윤서 아동은 정부의 정책과 연결하여'아이를 부모의 소유물이라고 생각하는 우리나라 사회 분위기가 먼저 바뀌어야 한다'며 인식개선의 필요성에 대한 의견을 전했다. 두 번째로 또래관계에서 발생하는 신체, 언어, 사이버폭력 심각하게는 성폭력을 예로 들었다.'학교 내에서는 또래관계에서 발생하는 폭력을 해결하기 위한 안전장치가 마련되어 있지만 실효성이 없다'며 [EOS]\""
      ]
     },
     "execution_count": 7,
     "metadata": {},
     "output_type": "execute_result"
    }
   ],
   "source": [
    "tokenizer.decode(a)"
   ]
  },
  {
   "cell_type": "code",
   "execution_count": null,
   "id": "27f5a34b-227c-42dd-a07a-ed9a513e697f",
   "metadata": {},
   "outputs": [],
   "source": []
  },
  {
   "cell_type": "code",
   "execution_count": 8,
   "id": "0f40482d-a522-4511-a162-82c7d2bca322",
   "metadata": {},
   "outputs": [],
   "source": [
    "import h5py\n",
    "import torch"
   ]
  },
  {
   "cell_type": "code",
   "execution_count": 9,
   "id": "409c0ac5-c9bb-4a0f-a5c2-0fa288fad9f1",
   "metadata": {},
   "outputs": [],
   "source": [
    "sharding_path = '/home/jisu/sharding_corpus/'\n",
    "h5py_path = \"/home/jisu/h5py_dataset/\"\n"
   ]
  },
  {
   "cell_type": "code",
   "execution_count": 10,
   "id": "b3f34779-25bf-4552-a40f-12e16e292e26",
   "metadata": {},
   "outputs": [],
   "source": [
    "file_index='010'"
   ]
  },
  {
   "cell_type": "code",
   "execution_count": 11,
   "id": "d6ea12fe-8718-404a-8277-5f9f84188339",
   "metadata": {},
   "outputs": [],
   "source": [
    "f = h5py.File(h5py_path+f'h5py_data_{file_index}.h5py', \"r\")\n",
    "data = torch.from_numpy(f['input_ids'][:]).long()\n",
    "f.close()\n",
    "\n",
    "# with open(sharding_path+f'bartcorpus_{file_index}.txt', 'r') as f:\n",
    "#     text = f.readlines()"
   ]
  },
  {
   "cell_type": "code",
   "execution_count": 12,
   "id": "f5841561-6dd3-4501-bfd2-d3c283724a52",
   "metadata": {},
   "outputs": [
    {
     "name": "stdout",
     "output_type": "stream",
     "text": [
      "300800\n"
     ]
    }
   ],
   "source": [
    "#print(len(text))\n",
    "print(len(data))"
   ]
  },
  {
   "cell_type": "code",
   "execution_count": 13,
   "id": "47a23c15-217a-4166-b9bf-9c8dbbddb7c1",
   "metadata": {},
   "outputs": [
    {
     "data": {
      "text/plain": [
       "['[CLS] 상록활엽수의 숲 속에서 모여 자란다. 뿌리줄기는 짧고 굵으며 길게 땅 속을 뻗고 잎이 드문드문 달리며 잎자루 밑 부분과 함께 비늘조각이 붙는다. 비늘조각은 줄 모양의 바소꼴 또는 바소꼴이고 길이가 4 7mm, 폭이 1mm이며 가장자리가 밋밋하다. 잎자루는 길이가 30 60cm이고 앞면에 홈이 있으며 연한 녹색 또는 볏짚색이다. 잎몸은 달걀 모양이고 길이가 20 40cm이며 2 3회 깃꼴로 갈라진다. 잎조각은 긴 타원 모양이고 길이가 10 20cm이며 끝 부분이 점점 좁아져서 뾰족하고 밑 부분에 있는 첫째 잎조각이 가장 크다. 작은 잎조각은 긴 타원형의 달걀 모양 또는 좁은 달걀 모양이고 자루가 없으며 털이 없고 표면에 광택이 있으며 가장자리에 톱니가 있고 끝 부분이 까끄라기처럼 뾰족하다. 첫째 잎조각의 뒤쪽 첫째 작은 잎조각이 특히 발달하여 다른 잎조각과 크기가 비슷하고 깃꼴로 갈라진다. 포자낭군은 잎몸 윗부분에 있는 작은 잎조각의 중앙맥과 가장자리 중간에 달려 2줄로 배열하고, 포막은 둥근 신장 모양이며 지름이 1mm 정도이고 가장자리가 밋밋하다. 한국 · 일본 · 타이완 · 중국 · 인도 · 말레이시아 · 폴리네시아 등지에 분포한다. 비슷한 종류인 좀쇠고사리는 뿌리줄기가 짧고 잎이 다닥다닥 달리며 잎몸 끝에 달린 작은잎이 발달하지 않았으며 제주도에서 자란다. [EOS] [PAD] [PAD] [PAD] [PAD] [PAD] [PAD] [PAD] [PAD] [PAD] [PAD] [PAD] [PAD] [PAD] [PAD] [PAD] [PAD] [PAD] [PAD] [PAD] [PAD] [PAD] [PAD] [PAD] [PAD] [PAD] [PAD] [PAD] [PAD] [PAD] [PAD] [PAD] [PAD] [PAD] [PAD] [PAD] [PAD] [PAD] [PAD] [PAD] [PAD] [PAD] [PAD] [PAD] [PAD] [PAD] [PAD] [PAD] [PAD] [PAD] [PAD] [PAD] [PAD] [PAD] [PAD] [PAD] [PAD] [PAD] [PAD] [PAD] [PAD] [PAD] [PAD] [PAD] [PAD] [PAD] [PAD] [PAD] [PAD] [PAD] [PAD] [PAD] [PAD] [PAD] [PAD] [PAD] [PAD] [PAD] [PAD] [PAD] [PAD] [PAD] [PAD] [PAD] [PAD] [PAD] [PAD] [PAD] [PAD] [PAD] [PAD] [PAD] [PAD] [PAD] [PAD] [PAD] [PAD] [PAD] [PAD] [PAD] [PAD] [PAD] [PAD] [PAD] [PAD] [PAD] [PAD] [PAD] [PAD] [PAD] [PAD] [PAD] [PAD] [PAD] [PAD] [PAD] [PAD] [PAD] [PAD] [PAD] [PAD] [PAD] [PAD] [PAD] [PAD] [PAD] [PAD] [PAD] [PAD] [PAD] [PAD] [PAD] [PAD] [PAD] [PAD] [PAD] [PAD] [PAD] [PAD] [PAD] [PAD] [PAD] [PAD] [PAD] [PAD] [PAD] [PAD] [PAD] [PAD] [PAD] [PAD] [PAD] [PAD] [PAD] [PAD] [PAD] [PAD] [PAD] [PAD] [PAD] [PAD] [PAD] [PAD] [PAD] [PAD] [PAD] [PAD] [PAD] [PAD] [PAD] [PAD] [PAD] [PAD] [PAD]',\n",
       " '[CLS] 산지에서 자란다. 전체에 털이 없고 줄기는 1m 정도로 곧게 선다. 잎은 길이 10cm 정도로 짧은 잎자루가 있고, 줄 모양 또는 달걀 모양 바소꼴이며 끝이 뾰족하고 가장자리에 가는 톱니가 있다. [EOS] [PAD] [PAD] [PAD] [PAD] [PAD] [PAD] [PAD] [PAD] [PAD] [PAD] [PAD] [PAD] [PAD] [PAD] [PAD] [PAD] [PAD] [PAD] [PAD] [PAD] [PAD] [PAD] [PAD] [PAD] [PAD] [PAD] [PAD] [PAD] [PAD] [PAD] [PAD] [PAD] [PAD] [PAD] [PAD] [PAD] [PAD] [PAD] [PAD] [PAD] [PAD] [PAD] [PAD] [PAD] [PAD] [PAD] [PAD] [PAD] [PAD] [PAD] [PAD] [PAD] [PAD] [PAD] [PAD] [PAD] [PAD] [PAD] [PAD] [PAD] [PAD] [PAD] [PAD] [PAD] [PAD] [PAD] [PAD] [PAD] [PAD] [PAD] [PAD] [PAD] [PAD] [PAD] [PAD] [PAD] [PAD] [PAD] [PAD] [PAD] [PAD] [PAD] [PAD] [PAD] [PAD] [PAD] [PAD] [PAD] [PAD] [PAD] [PAD] [PAD] [PAD] [PAD] [PAD] [PAD] [PAD] [PAD] [PAD] [PAD] [PAD] [PAD] [PAD] [PAD] [PAD] [PAD] [PAD] [PAD] [PAD] [PAD] [PAD] [PAD] [PAD] [PAD] [PAD] [PAD] [PAD] [PAD] [PAD] [PAD] [PAD] [PAD] [PAD] [PAD] [PAD] [PAD] [PAD] [PAD] [PAD] [PAD] [PAD] [PAD] [PAD] [PAD] [PAD] [PAD] [PAD] [PAD] [PAD] [PAD] [PAD] [PAD] [PAD] [PAD] [PAD] [PAD] [PAD] [PAD] [PAD] [PAD] [PAD] [PAD] [PAD] [PAD] [PAD] [PAD] [PAD] [PAD] [PAD] [PAD] [PAD] [PAD] [PAD] [PAD] [PAD] [PAD] [PAD] [PAD] [PAD] [PAD] [PAD] [PAD] [PAD] [PAD] [PAD] [PAD] [PAD] [PAD] [PAD] [PAD] [PAD] [PAD] [PAD] [PAD] [PAD] [PAD] [PAD] [PAD] [PAD] [PAD] [PAD] [PAD] [PAD] [PAD] [PAD] [PAD] [PAD] [PAD] [PAD] [PAD] [PAD] [PAD] [PAD] [PAD] [PAD] [PAD] [PAD] [PAD] [PAD] [PAD] [PAD] [PAD] [PAD] [PAD] [PAD] [PAD] [PAD] [PAD] [PAD] [PAD] [PAD] [PAD] [PAD] [PAD] [PAD] [PAD] [PAD] [PAD] [PAD] [PAD] [PAD] [PAD] [PAD] [PAD] [PAD] [PAD] [PAD] [PAD] [PAD] [PAD] [PAD] [PAD] [PAD] [PAD] [PAD] [PAD] [PAD] [PAD] [PAD] [PAD] [PAD] [PAD] [PAD] [PAD] [PAD] [PAD] [PAD] [PAD] [PAD] [PAD] [PAD] [PAD] [PAD] [PAD] [PAD] [PAD] [PAD] [PAD] [PAD] [PAD] [PAD] [PAD] [PAD] [PAD] [PAD] [PAD] [PAD] [PAD] [PAD] [PAD] [PAD] [PAD] [PAD] [PAD] [PAD] [PAD] [PAD] [PAD] [PAD] [PAD] [PAD] [PAD] [PAD] [PAD] [PAD] [PAD] [PAD] [PAD] [PAD] [PAD] [PAD] [PAD] [PAD] [PAD] [PAD] [PAD] [PAD] [PAD] [PAD] [PAD] [PAD] [PAD] [PAD] [PAD] [PAD] [PAD] [PAD] [PAD] [PAD] [PAD] [PAD] [PAD] [PAD] [PAD] [PAD] [PAD] [PAD] [PAD] [PAD] [PAD] [PAD] [PAD] [PAD] [PAD] [PAD] [PAD] [PAD] [PAD] [PAD] [PAD] [PAD] [PAD] [PAD] [PAD] [PAD] [PAD] [PAD] [PAD] [PAD] [PAD] [PAD] [PAD] [PAD] [PAD] [PAD] [PAD] [PAD] [PAD] [PAD] [PAD] [PAD] [PAD] [PAD] [PAD] [PAD] [PAD] [PAD] [PAD] [PAD] [PAD] [PAD] [PAD] [PAD] [PAD] [PAD] [PAD] [PAD] [PAD] [PAD] [PAD] [PAD] [PAD] [PAD] [PAD] [PAD] [PAD] [PAD] [PAD] [PAD] [PAD] [PAD] [PAD] [PAD] [PAD] [PAD] [PAD] [PAD] [PAD] [PAD] [PAD] [PAD] [PAD] [PAD] [PAD] [PAD] [PAD] [PAD] [PAD] [PAD] [PAD] [PAD] [PAD] [PAD] [PAD] [PAD] [PAD] [PAD] [PAD] [PAD] [PAD] [PAD] [PAD] [PAD] [PAD] [PAD] [PAD] [PAD] [PAD] [PAD] [PAD] [PAD] [PAD] [PAD] [PAD] [PAD] [PAD] [PAD] [PAD] [PAD] [PAD] [PAD] [PAD] [PAD] [PAD] [PAD] [PAD] [PAD] [PAD] [PAD] [PAD] [PAD] [PAD] [PAD]',\n",
       " '[CLS] 7 8월에 하늘색 꽃이 원줄기 끝에 총상꽃차례로 다닥다닥 피며, 화관은 4갈래이다. 수술은 2개이고, 꽃받침은 4장으로 끝이 뾰족하며 포는 줄 모양이다. 열매는 납작한 삭과이며 10월에 익는다. 여름의 밀원식물이다. 한방에서 방광염 · 요통 · 중풍 등을 치료하는 데 사용한다. 한국 특산종으로 함경남도 · 함경북도에 분포한다. [EOS] [PAD] [PAD] [PAD] [PAD] [PAD] [PAD] [PAD] [PAD] [PAD] [PAD] [PAD] [PAD] [PAD] [PAD] [PAD] [PAD] [PAD] [PAD] [PAD] [PAD] [PAD] [PAD] [PAD] [PAD] [PAD] [PAD] [PAD] [PAD] [PAD] [PAD] [PAD] [PAD] [PAD] [PAD] [PAD] [PAD] [PAD] [PAD] [PAD] [PAD] [PAD] [PAD] [PAD] [PAD] [PAD] [PAD] [PAD] [PAD] [PAD] [PAD] [PAD] [PAD] [PAD] [PAD] [PAD] [PAD] [PAD] [PAD] [PAD] [PAD] [PAD] [PAD] [PAD] [PAD] [PAD] [PAD] [PAD] [PAD] [PAD] [PAD] [PAD] [PAD] [PAD] [PAD] [PAD] [PAD] [PAD] [PAD] [PAD] [PAD] [PAD] [PAD] [PAD] [PAD] [PAD] [PAD] [PAD] [PAD] [PAD] [PAD] [PAD] [PAD] [PAD] [PAD] [PAD] [PAD] [PAD] [PAD] [PAD] [PAD] [PAD] [PAD] [PAD] [PAD] [PAD] [PAD] [PAD] [PAD] [PAD] [PAD] [PAD] [PAD] [PAD] [PAD] [PAD] [PAD] [PAD] [PAD] [PAD] [PAD] [PAD] [PAD] [PAD] [PAD] [PAD] [PAD] [PAD] [PAD] [PAD] [PAD] [PAD] [PAD] [PAD] [PAD] [PAD] [PAD] [PAD] [PAD] [PAD] [PAD] [PAD] [PAD] [PAD] [PAD] [PAD] [PAD] [PAD] [PAD] [PAD] [PAD] [PAD] [PAD] [PAD] [PAD] [PAD] [PAD] [PAD] [PAD] [PAD] [PAD] [PAD] [PAD] [PAD] [PAD] [PAD] [PAD] [PAD] [PAD] [PAD] [PAD] [PAD] [PAD] [PAD] [PAD] [PAD] [PAD] [PAD] [PAD] [PAD] [PAD] [PAD] [PAD] [PAD] [PAD] [PAD] [PAD] [PAD] [PAD] [PAD] [PAD] [PAD] [PAD] [PAD] [PAD] [PAD] [PAD] [PAD] [PAD] [PAD] [PAD] [PAD] [PAD] [PAD] [PAD] [PAD] [PAD] [PAD] [PAD] [PAD] [PAD] [PAD] [PAD] [PAD] [PAD] [PAD] [PAD] [PAD] [PAD] [PAD] [PAD] [PAD] [PAD] [PAD] [PAD] [PAD] [PAD] [PAD] [PAD] [PAD] [PAD] [PAD] [PAD] [PAD] [PAD] [PAD] [PAD] [PAD] [PAD] [PAD] [PAD] [PAD] [PAD] [PAD] [PAD] [PAD] [PAD] [PAD] [PAD] [PAD] [PAD] [PAD] [PAD] [PAD] [PAD] [PAD] [PAD] [PAD] [PAD] [PAD] [PAD] [PAD] [PAD] [PAD] [PAD] [PAD] [PAD] [PAD] [PAD] [PAD] [PAD] [PAD] [PAD] [PAD] [PAD] [PAD] [PAD] [PAD] [PAD] [PAD] [PAD] [PAD] [PAD] [PAD] [PAD] [PAD] [PAD] [PAD] [PAD] [PAD] [PAD] [PAD] [PAD] [PAD] [PAD] [PAD] [PAD] [PAD] [PAD] [PAD] [PAD] [PAD] [PAD] [PAD] [PAD] [PAD] [PAD] [PAD] [PAD] [PAD] [PAD] [PAD] [PAD] [PAD] [PAD] [PAD] [PAD] [PAD] [PAD] [PAD] [PAD] [PAD] [PAD] [PAD] [PAD] [PAD] [PAD] [PAD] [PAD] [PAD] [PAD] [PAD] [PAD] [PAD] [PAD] [PAD] [PAD] [PAD] [PAD] [PAD] [PAD] [PAD] [PAD] [PAD] [PAD] [PAD] [PAD] [PAD] [PAD] [PAD] [PAD] [PAD] [PAD] [PAD] [PAD] [PAD] [PAD] [PAD] [PAD] [PAD] [PAD] [PAD] [PAD] [PAD] [PAD] [PAD] [PAD] [PAD] [PAD] [PAD] [PAD] [PAD] [PAD] [PAD] [PAD] [PAD] [PAD] [PAD] [PAD] [PAD] [PAD] [PAD] [PAD] [PAD] [PAD] [PAD] [PAD] [PAD] [PAD] [PAD] [PAD] [PAD] [PAD] [PAD] [PAD] [PAD] [PAD] [PAD] [PAD] [PAD] [PAD] [PAD] [PAD] [PAD] [PAD] [PAD] [PAD] [PAD] [PAD] [PAD] [PAD] [PAD]',\n",
       " '[CLS] 간조선 부근의 바위 위에서 자란다. 높이 10 15cm이다. 몸은 가느다란 원기둥 모양이고 각 방향으로 여러 번 많은 가지를 내는데, 가지는 약간 어긋난다. 작은가지는 밑동이 매우 가늘고 가지 끝도 다시 가늘어진다. 낭과는 몸 속에 묻혀 있어 약간 도드라지고 연한 다육질이다. 한국 · 일본 · 오스트레일리아 등지에 분포한다. [EOS] [PAD] [PAD] [PAD] [PAD] [PAD] [PAD] [PAD] [PAD] [PAD] [PAD] [PAD] [PAD] [PAD] [PAD] [PAD] [PAD] [PAD] [PAD] [PAD] [PAD] [PAD] [PAD] [PAD] [PAD] [PAD] [PAD] [PAD] [PAD] [PAD] [PAD] [PAD] [PAD] [PAD] [PAD] [PAD] [PAD] [PAD] [PAD] [PAD] [PAD] [PAD] [PAD] [PAD] [PAD] [PAD] [PAD] [PAD] [PAD] [PAD] [PAD] [PAD] [PAD] [PAD] [PAD] [PAD] [PAD] [PAD] [PAD] [PAD] [PAD] [PAD] [PAD] [PAD] [PAD] [PAD] [PAD] [PAD] [PAD] [PAD] [PAD] [PAD] [PAD] [PAD] [PAD] [PAD] [PAD] [PAD] [PAD] [PAD] [PAD] [PAD] [PAD] [PAD] [PAD] [PAD] [PAD] [PAD] [PAD] [PAD] [PAD] [PAD] [PAD] [PAD] [PAD] [PAD] [PAD] [PAD] [PAD] [PAD] [PAD] [PAD] [PAD] [PAD] [PAD] [PAD] [PAD] [PAD] [PAD] [PAD] [PAD] [PAD] [PAD] [PAD] [PAD] [PAD] [PAD] [PAD] [PAD] [PAD] [PAD] [PAD] [PAD] [PAD] [PAD] [PAD] [PAD] [PAD] [PAD] [PAD] [PAD] [PAD] [PAD] [PAD] [PAD] [PAD] [PAD] [PAD] [PAD] [PAD] [PAD] [PAD] [PAD] [PAD] [PAD] [PAD] [PAD] [PAD] [PAD] [PAD] [PAD] [PAD] [PAD] [PAD] [PAD] [PAD] [PAD] [PAD] [PAD] [PAD] [PAD] [PAD] [PAD] [PAD] [PAD] [PAD] [PAD] [PAD] [PAD] [PAD] [PAD] [PAD] [PAD] [PAD] [PAD] [PAD] [PAD] [PAD] [PAD] [PAD] [PAD] [PAD] [PAD] [PAD] [PAD] [PAD] [PAD] [PAD] [PAD] [PAD] [PAD] [PAD] [PAD] [PAD] [PAD] [PAD] [PAD] [PAD] [PAD] [PAD] [PAD] [PAD] [PAD] [PAD] [PAD] [PAD] [PAD] [PAD] [PAD] [PAD] [PAD] [PAD] [PAD] [PAD] [PAD] [PAD] [PAD] [PAD] [PAD] [PAD] [PAD] [PAD] [PAD] [PAD] [PAD] [PAD] [PAD] [PAD] [PAD] [PAD] [PAD] [PAD] [PAD] [PAD] [PAD] [PAD] [PAD] [PAD] [PAD] [PAD] [PAD] [PAD] [PAD] [PAD] [PAD] [PAD] [PAD] [PAD] [PAD] [PAD] [PAD] [PAD] [PAD] [PAD] [PAD] [PAD] [PAD] [PAD] [PAD] [PAD] [PAD] [PAD] [PAD] [PAD] [PAD] [PAD] [PAD] [PAD] [PAD] [PAD] [PAD] [PAD] [PAD] [PAD] [PAD] [PAD] [PAD] [PAD] [PAD] [PAD] [PAD] [PAD] [PAD] [PAD] [PAD] [PAD] [PAD] [PAD] [PAD] [PAD] [PAD] [PAD] [PAD] [PAD] [PAD] [PAD] [PAD] [PAD] [PAD] [PAD] [PAD] [PAD] [PAD] [PAD] [PAD] [PAD] [PAD] [PAD] [PAD] [PAD] [PAD] [PAD] [PAD] [PAD] [PAD] [PAD] [PAD] [PAD] [PAD] [PAD] [PAD] [PAD] [PAD] [PAD] [PAD] [PAD] [PAD] [PAD] [PAD] [PAD] [PAD] [PAD] [PAD] [PAD] [PAD] [PAD] [PAD] [PAD] [PAD] [PAD] [PAD] [PAD] [PAD] [PAD] [PAD] [PAD] [PAD] [PAD] [PAD] [PAD] [PAD] [PAD] [PAD] [PAD] [PAD] [PAD] [PAD] [PAD] [PAD] [PAD] [PAD] [PAD] [PAD] [PAD] [PAD] [PAD] [PAD] [PAD] [PAD] [PAD] [PAD] [PAD] [PAD] [PAD] [PAD] [PAD] [PAD] [PAD] [PAD] [PAD] [PAD] [PAD] [PAD] [PAD] [PAD] [PAD] [PAD] [PAD] [PAD] [PAD] [PAD] [PAD] [PAD] [PAD] [PAD] [PAD] [PAD] [PAD] [PAD] [PAD] [PAD] [PAD] [PAD] [PAD] [PAD] [PAD] [PAD] [PAD] [PAD] [PAD] [PAD] [PAD] [PAD] [PAD] [PAD] [PAD] [PAD] [PAD] [PAD] [PAD] [PAD] [PAD]',\n",
       " '[CLS] 가는보풀이라고도 한다. 물구덩이에서 자란다. 뿌리줄기는 짧고 수염뿌리가 뭉쳐난다. 꽃줄기는 60cm 정도로 곧게 선다. 잎은 뿌리에서 뭉쳐나고 긴 잎자루가 밑부분에서 서로 감싼다. 잎 모양은 윗부분이 바소꼴 또는 달걀 모양이고 끝이 뾰족하며 화살처럼 길다. [EOS] [PAD] [PAD] [PAD] [PAD] [PAD] [PAD] [PAD] [PAD] [PAD] [PAD] [PAD] [PAD] [PAD] [PAD] [PAD] [PAD] [PAD] [PAD] [PAD] [PAD] [PAD] [PAD] [PAD] [PAD] [PAD] [PAD] [PAD] [PAD] [PAD] [PAD] [PAD] [PAD] [PAD] [PAD] [PAD] [PAD] [PAD] [PAD] [PAD] [PAD] [PAD] [PAD] [PAD] [PAD] [PAD] [PAD] [PAD] [PAD] [PAD] [PAD] [PAD] [PAD] [PAD] [PAD] [PAD] [PAD] [PAD] [PAD] [PAD] [PAD] [PAD] [PAD] [PAD] [PAD] [PAD] [PAD] [PAD] [PAD] [PAD] [PAD] [PAD] [PAD] [PAD] [PAD] [PAD] [PAD] [PAD] [PAD] [PAD] [PAD] [PAD] [PAD] [PAD] [PAD] [PAD] [PAD] [PAD] [PAD] [PAD] [PAD] [PAD] [PAD] [PAD] [PAD] [PAD] [PAD] [PAD] [PAD] [PAD] [PAD] [PAD] [PAD] [PAD] [PAD] [PAD] [PAD] [PAD] [PAD] [PAD] [PAD] [PAD] [PAD] [PAD] [PAD] [PAD] [PAD] [PAD] [PAD] [PAD] [PAD] [PAD] [PAD] [PAD] [PAD] [PAD] [PAD] [PAD] [PAD] [PAD] [PAD] [PAD] [PAD] [PAD] [PAD] [PAD] [PAD] [PAD] [PAD] [PAD] [PAD] [PAD] [PAD] [PAD] [PAD] [PAD] [PAD] [PAD] [PAD] [PAD] [PAD] [PAD] [PAD] [PAD] [PAD] [PAD] [PAD] [PAD] [PAD] [PAD] [PAD] [PAD] [PAD] [PAD] [PAD] [PAD] [PAD] [PAD] [PAD] [PAD] [PAD] [PAD] [PAD] [PAD] [PAD] [PAD] [PAD] [PAD] [PAD] [PAD] [PAD] [PAD] [PAD] [PAD] [PAD] [PAD] [PAD] [PAD] [PAD] [PAD] [PAD] [PAD] [PAD] [PAD] [PAD] [PAD] [PAD] [PAD] [PAD] [PAD] [PAD] [PAD] [PAD] [PAD] [PAD] [PAD] [PAD] [PAD] [PAD] [PAD] [PAD] [PAD] [PAD] [PAD] [PAD] [PAD] [PAD] [PAD] [PAD] [PAD] [PAD] [PAD] [PAD] [PAD] [PAD] [PAD] [PAD] [PAD] [PAD] [PAD] [PAD] [PAD] [PAD] [PAD] [PAD] [PAD] [PAD] [PAD] [PAD] [PAD] [PAD] [PAD] [PAD] [PAD] [PAD] [PAD] [PAD] [PAD] [PAD] [PAD] [PAD] [PAD] [PAD] [PAD] [PAD] [PAD] [PAD] [PAD] [PAD] [PAD] [PAD] [PAD] [PAD] [PAD] [PAD] [PAD] [PAD] [PAD] [PAD] [PAD] [PAD] [PAD] [PAD] [PAD] [PAD] [PAD] [PAD] [PAD] [PAD] [PAD] [PAD] [PAD] [PAD] [PAD] [PAD] [PAD] [PAD] [PAD] [PAD] [PAD] [PAD] [PAD] [PAD] [PAD] [PAD] [PAD] [PAD] [PAD] [PAD] [PAD] [PAD] [PAD] [PAD] [PAD] [PAD] [PAD] [PAD] [PAD] [PAD] [PAD] [PAD] [PAD] [PAD] [PAD] [PAD] [PAD] [PAD] [PAD] [PAD] [PAD] [PAD] [PAD] [PAD] [PAD] [PAD] [PAD] [PAD] [PAD] [PAD] [PAD] [PAD] [PAD] [PAD] [PAD] [PAD] [PAD] [PAD] [PAD] [PAD] [PAD] [PAD] [PAD] [PAD] [PAD] [PAD] [PAD] [PAD] [PAD] [PAD] [PAD] [PAD] [PAD] [PAD] [PAD] [PAD] [PAD] [PAD] [PAD] [PAD] [PAD] [PAD] [PAD] [PAD] [PAD] [PAD] [PAD] [PAD] [PAD] [PAD] [PAD] [PAD] [PAD] [PAD] [PAD] [PAD] [PAD] [PAD] [PAD] [PAD] [PAD] [PAD] [PAD] [PAD] [PAD] [PAD] [PAD] [PAD] [PAD] [PAD] [PAD] [PAD] [PAD] [PAD] [PAD] [PAD] [PAD] [PAD] [PAD] [PAD] [PAD] [PAD] [PAD] [PAD] [PAD] [PAD] [PAD] [PAD] [PAD] [PAD] [PAD] [PAD] [PAD] [PAD] [PAD] [PAD] [PAD] [PAD] [PAD] [PAD] [PAD] [PAD] [PAD] [PAD] [PAD] [PAD] [PAD] [PAD] [PAD] [PAD] [PAD] [PAD] [PAD] [PAD] [PAD] [PAD] [PAD]',\n",
       " '[CLS] 7 8월에 작은 흰색 꽃이 꼭대기에 원추꽃차례를 이루고 많이 돌려 핀다. 꽃은 단성화로 수꽃은 위쪽에 적게 피고, 작은이삭과 암꽃은 아래쪽에 많이 핀다. 벗풀에 비해 잎의 갈라진 조각이 가늘고 길다. 열매는 수과로서 연한 녹색이며 둥글고 납작하다. 제주도 · 경상남도 · 강원도 · 경기도 · 황해도 · 평안남도 등지에 분포한다. [EOS] [PAD] [PAD] [PAD] [PAD] [PAD] [PAD] [PAD] [PAD] [PAD] [PAD] [PAD] [PAD] [PAD] [PAD] [PAD] [PAD] [PAD] [PAD] [PAD] [PAD] [PAD] [PAD] [PAD] [PAD] [PAD] [PAD] [PAD] [PAD] [PAD] [PAD] [PAD] [PAD] [PAD] [PAD] [PAD] [PAD] [PAD] [PAD] [PAD] [PAD] [PAD] [PAD] [PAD] [PAD] [PAD] [PAD] [PAD] [PAD] [PAD] [PAD] [PAD] [PAD] [PAD] [PAD] [PAD] [PAD] [PAD] [PAD] [PAD] [PAD] [PAD] [PAD] [PAD] [PAD] [PAD] [PAD] [PAD] [PAD] [PAD] [PAD] [PAD] [PAD] [PAD] [PAD] [PAD] [PAD] [PAD] [PAD] [PAD] [PAD] [PAD] [PAD] [PAD] [PAD] [PAD] [PAD] [PAD] [PAD] [PAD] [PAD] [PAD] [PAD] [PAD] [PAD] [PAD] [PAD] [PAD] [PAD] [PAD] [PAD] [PAD] [PAD] [PAD] [PAD] [PAD] [PAD] [PAD] [PAD] [PAD] [PAD] [PAD] [PAD] [PAD] [PAD] [PAD] [PAD] [PAD] [PAD] [PAD] [PAD] [PAD] [PAD] [PAD] [PAD] [PAD] [PAD] [PAD] [PAD] [PAD] [PAD] [PAD] [PAD] [PAD] [PAD] [PAD] [PAD] [PAD] [PAD] [PAD] [PAD] [PAD] [PAD] [PAD] [PAD] [PAD] [PAD] [PAD] [PAD] [PAD] [PAD] [PAD] [PAD] [PAD] [PAD] [PAD] [PAD] [PAD] [PAD] [PAD] [PAD] [PAD] [PAD] [PAD] [PAD] [PAD] [PAD] [PAD] [PAD] [PAD] [PAD] [PAD] [PAD] [PAD] [PAD] [PAD] [PAD] [PAD] [PAD] [PAD] [PAD] [PAD] [PAD] [PAD] [PAD] [PAD] [PAD] [PAD] [PAD] [PAD] [PAD] [PAD] [PAD] [PAD] [PAD] [PAD] [PAD] [PAD] [PAD] [PAD] [PAD] [PAD] [PAD] [PAD] [PAD] [PAD] [PAD] [PAD] [PAD] [PAD] [PAD] [PAD] [PAD] [PAD] [PAD] [PAD] [PAD] [PAD] [PAD] [PAD] [PAD] [PAD] [PAD] [PAD] [PAD] [PAD] [PAD] [PAD] [PAD] [PAD] [PAD] [PAD] [PAD] [PAD] [PAD] [PAD] [PAD] [PAD] [PAD] [PAD] [PAD] [PAD] [PAD] [PAD] [PAD] [PAD] [PAD] [PAD] [PAD] [PAD] [PAD] [PAD] [PAD] [PAD] [PAD] [PAD] [PAD] [PAD] [PAD] [PAD] [PAD] [PAD] [PAD] [PAD] [PAD] [PAD] [PAD] [PAD] [PAD] [PAD] [PAD] [PAD] [PAD] [PAD] [PAD] [PAD] [PAD] [PAD] [PAD] [PAD] [PAD] [PAD] [PAD] [PAD] [PAD] [PAD] [PAD] [PAD] [PAD] [PAD] [PAD] [PAD] [PAD] [PAD] [PAD] [PAD] [PAD] [PAD] [PAD] [PAD] [PAD] [PAD] [PAD] [PAD] [PAD] [PAD] [PAD] [PAD] [PAD] [PAD] [PAD] [PAD] [PAD] [PAD] [PAD] [PAD] [PAD] [PAD] [PAD] [PAD] [PAD] [PAD] [PAD] [PAD] [PAD] [PAD] [PAD] [PAD] [PAD] [PAD] [PAD] [PAD] [PAD] [PAD] [PAD] [PAD] [PAD] [PAD] [PAD] [PAD] [PAD] [PAD] [PAD] [PAD] [PAD] [PAD] [PAD] [PAD] [PAD] [PAD] [PAD] [PAD] [PAD] [PAD] [PAD] [PAD] [PAD] [PAD] [PAD] [PAD] [PAD] [PAD] [PAD] [PAD] [PAD] [PAD] [PAD] [PAD] [PAD] [PAD] [PAD] [PAD] [PAD] [PAD] [PAD] [PAD] [PAD] [PAD] [PAD] [PAD] [PAD] [PAD] [PAD] [PAD] [PAD] [PAD] [PAD] [PAD] [PAD] [PAD] [PAD] [PAD] [PAD] [PAD] [PAD] [PAD] [PAD] [PAD] [PAD] [PAD] [PAD] [PAD] [PAD] [PAD] [PAD] [PAD] [PAD] [PAD] [PAD] [PAD] [PAD] [PAD] [PAD]',\n",
       " '[CLS] 조간대의 위쪽 바위에 붙어 산다. 높이 13 20cm이다. 몸은 작은 쟁반 모양의 뿌리에서 여러 개가 모여나고 원기둥 모양이다. 몸 밑에서부터 가지가 3 4회 깃꼴로 나고, 원기둥 모양의 작은가지가 촘촘하게 난다. 4분포자낭이 있는 작은가지는 약간 울퉁불퉁하고 낭과는 달걀처럼 생긴 공 모양이다. [EOS] [PAD] [PAD] [PAD] [PAD] [PAD] [PAD] [PAD] [PAD] [PAD] [PAD] [PAD] [PAD] [PAD] [PAD] [PAD] [PAD] [PAD] [PAD] [PAD] [PAD] [PAD] [PAD] [PAD] [PAD] [PAD] [PAD] [PAD] [PAD] [PAD] [PAD] [PAD] [PAD] [PAD] [PAD] [PAD] [PAD] [PAD] [PAD] [PAD] [PAD] [PAD] [PAD] [PAD] [PAD] [PAD] [PAD] [PAD] [PAD] [PAD] [PAD] [PAD] [PAD] [PAD] [PAD] [PAD] [PAD] [PAD] [PAD] [PAD] [PAD] [PAD] [PAD] [PAD] [PAD] [PAD] [PAD] [PAD] [PAD] [PAD] [PAD] [PAD] [PAD] [PAD] [PAD] [PAD] [PAD] [PAD] [PAD] [PAD] [PAD] [PAD] [PAD] [PAD] [PAD] [PAD] [PAD] [PAD] [PAD] [PAD] [PAD] [PAD] [PAD] [PAD] [PAD] [PAD] [PAD] [PAD] [PAD] [PAD] [PAD] [PAD] [PAD] [PAD] [PAD] [PAD] [PAD] [PAD] [PAD] [PAD] [PAD] [PAD] [PAD] [PAD] [PAD] [PAD] [PAD] [PAD] [PAD] [PAD] [PAD] [PAD] [PAD] [PAD] [PAD] [PAD] [PAD] [PAD] [PAD] [PAD] [PAD] [PAD] [PAD] [PAD] [PAD] [PAD] [PAD] [PAD] [PAD] [PAD] [PAD] [PAD] [PAD] [PAD] [PAD] [PAD] [PAD] [PAD] [PAD] [PAD] [PAD] [PAD] [PAD] [PAD] [PAD] [PAD] [PAD] [PAD] [PAD] [PAD] [PAD] [PAD] [PAD] [PAD] [PAD] [PAD] [PAD] [PAD] [PAD] [PAD] [PAD] [PAD] [PAD] [PAD] [PAD] [PAD] [PAD] [PAD] [PAD] [PAD] [PAD] [PAD] [PAD] [PAD] [PAD] [PAD] [PAD] [PAD] [PAD] [PAD] [PAD] [PAD] [PAD] [PAD] [PAD] [PAD] [PAD] [PAD] [PAD] [PAD] [PAD] [PAD] [PAD] [PAD] [PAD] [PAD] [PAD] [PAD] [PAD] [PAD] [PAD] [PAD] [PAD] [PAD] [PAD] [PAD] [PAD] [PAD] [PAD] [PAD] [PAD] [PAD] [PAD] [PAD] [PAD] [PAD] [PAD] [PAD] [PAD] [PAD] [PAD] [PAD] [PAD] [PAD] [PAD] [PAD] [PAD] [PAD] [PAD] [PAD] [PAD] [PAD] [PAD] [PAD] [PAD] [PAD] [PAD] [PAD] [PAD] [PAD] [PAD] [PAD] [PAD] [PAD] [PAD] [PAD] [PAD] [PAD] [PAD] [PAD] [PAD] [PAD] [PAD] [PAD] [PAD] [PAD] [PAD] [PAD] [PAD] [PAD] [PAD] [PAD] [PAD] [PAD] [PAD] [PAD] [PAD] [PAD] [PAD] [PAD] [PAD] [PAD] [PAD] [PAD] [PAD] [PAD] [PAD] [PAD] [PAD] [PAD] [PAD] [PAD] [PAD] [PAD] [PAD] [PAD] [PAD] [PAD] [PAD] [PAD] [PAD] [PAD] [PAD] [PAD] [PAD] [PAD] [PAD] [PAD] [PAD] [PAD] [PAD] [PAD] [PAD] [PAD] [PAD] [PAD] [PAD] [PAD] [PAD] [PAD] [PAD] [PAD] [PAD] [PAD] [PAD] [PAD] [PAD] [PAD] [PAD] [PAD] [PAD] [PAD] [PAD] [PAD] [PAD] [PAD] [PAD] [PAD] [PAD] [PAD] [PAD] [PAD] [PAD] [PAD] [PAD] [PAD] [PAD] [PAD] [PAD] [PAD] [PAD] [PAD] [PAD] [PAD] [PAD] [PAD] [PAD] [PAD] [PAD] [PAD] [PAD] [PAD] [PAD] [PAD] [PAD] [PAD] [PAD] [PAD] [PAD] [PAD] [PAD] [PAD] [PAD] [PAD] [PAD] [PAD] [PAD] [PAD] [PAD] [PAD] [PAD] [PAD] [PAD] [PAD] [PAD] [PAD] [PAD] [PAD] [PAD] [PAD] [PAD] [PAD] [PAD] [PAD] [PAD] [PAD] [PAD] [PAD] [PAD] [PAD] [PAD] [PAD] [PAD] [PAD] [PAD] [PAD] [PAD] [PAD] [PAD] [PAD] [PAD] [PAD] [PAD] [PAD] [PAD] [PAD] [PAD] [PAD] [PAD] [PAD] [PAD] [PAD] [PAD]',\n",
       " '[CLS] 질은 연골질이며 어린 부분을 빼고는 단단하다. 빛깔은 짙은 갈색이거나 노란빛을 띤 갈색이고, 말리면 검게 변한다. 파도가 조용한 곳에서 잘 자란다. 한국, 일본, 베링해, 미국 서해안, 대서양 등지에 분포한다. [EOS] [PAD] [PAD] [PAD] [PAD] [PAD] [PAD] [PAD] [PAD] [PAD] [PAD] [PAD] [PAD] [PAD] [PAD] [PAD] [PAD] [PAD] [PAD] [PAD] [PAD] [PAD] [PAD] [PAD] [PAD] [PAD] [PAD] [PAD] [PAD] [PAD] [PAD] [PAD] [PAD] [PAD] [PAD] [PAD] [PAD] [PAD] [PAD] [PAD] [PAD] [PAD] [PAD] [PAD] [PAD] [PAD] [PAD] [PAD] [PAD] [PAD] [PAD] [PAD] [PAD] [PAD] [PAD] [PAD] [PAD] [PAD] [PAD] [PAD] [PAD] [PAD] [PAD] [PAD] [PAD] [PAD] [PAD] [PAD] [PAD] [PAD] [PAD] [PAD] [PAD] [PAD] [PAD] [PAD] [PAD] [PAD] [PAD] [PAD] [PAD] [PAD] [PAD] [PAD] [PAD] [PAD] [PAD] [PAD] [PAD] [PAD] [PAD] [PAD] [PAD] [PAD] [PAD] [PAD] [PAD] [PAD] [PAD] [PAD] [PAD] [PAD] [PAD] [PAD] [PAD] [PAD] [PAD] [PAD] [PAD] [PAD] [PAD] [PAD] [PAD] [PAD] [PAD] [PAD] [PAD] [PAD] [PAD] [PAD] [PAD] [PAD] [PAD] [PAD] [PAD] [PAD] [PAD] [PAD] [PAD] [PAD] [PAD] [PAD] [PAD] [PAD] [PAD] [PAD] [PAD] [PAD] [PAD] [PAD] [PAD] [PAD] [PAD] [PAD] [PAD] [PAD] [PAD] [PAD] [PAD] [PAD] [PAD] [PAD] [PAD] [PAD] [PAD] [PAD] [PAD] [PAD] [PAD] [PAD] [PAD] [PAD] [PAD] [PAD] [PAD] [PAD] [PAD] [PAD] [PAD] [PAD] [PAD] [PAD] [PAD] [PAD] [PAD] [PAD] [PAD] [PAD] [PAD] [PAD] [PAD] [PAD] [PAD] [PAD] [PAD] [PAD] [PAD] [PAD] [PAD] [PAD] [PAD] [PAD] [PAD] [PAD] [PAD] [PAD] [PAD] [PAD] [PAD] [PAD] [PAD] [PAD] [PAD] [PAD] [PAD] [PAD] [PAD] [PAD] [PAD] [PAD] [PAD] [PAD] [PAD] [PAD] [PAD] [PAD] [PAD] [PAD] [PAD] [PAD] [PAD] [PAD] [PAD] [PAD] [PAD] [PAD] [PAD] [PAD] [PAD] [PAD] [PAD] [PAD] [PAD] [PAD] [PAD] [PAD] [PAD] [PAD] [PAD] [PAD] [PAD] [PAD] [PAD] [PAD] [PAD] [PAD] [PAD] [PAD] [PAD] [PAD] [PAD] [PAD] [PAD] [PAD] [PAD] [PAD] [PAD] [PAD] [PAD] [PAD] [PAD] [PAD] [PAD] [PAD] [PAD] [PAD] [PAD] [PAD] [PAD] [PAD] [PAD] [PAD] [PAD] [PAD] [PAD] [PAD] [PAD] [PAD] [PAD] [PAD] [PAD] [PAD] [PAD] [PAD] [PAD] [PAD] [PAD] [PAD] [PAD] [PAD] [PAD] [PAD] [PAD] [PAD] [PAD] [PAD] [PAD] [PAD] [PAD] [PAD] [PAD] [PAD] [PAD] [PAD] [PAD] [PAD] [PAD] [PAD] [PAD] [PAD] [PAD] [PAD] [PAD] [PAD] [PAD] [PAD] [PAD] [PAD] [PAD] [PAD] [PAD] [PAD] [PAD] [PAD] [PAD] [PAD] [PAD] [PAD] [PAD] [PAD] [PAD] [PAD] [PAD] [PAD] [PAD] [PAD] [PAD] [PAD] [PAD] [PAD] [PAD] [PAD] [PAD] [PAD] [PAD] [PAD] [PAD] [PAD] [PAD] [PAD] [PAD] [PAD] [PAD] [PAD] [PAD] [PAD] [PAD] [PAD] [PAD] [PAD] [PAD] [PAD] [PAD] [PAD] [PAD] [PAD] [PAD] [PAD] [PAD] [PAD] [PAD] [PAD] [PAD] [PAD] [PAD] [PAD] [PAD] [PAD] [PAD] [PAD] [PAD] [PAD] [PAD] [PAD] [PAD] [PAD] [PAD] [PAD] [PAD] [PAD] [PAD] [PAD] [PAD] [PAD] [PAD] [PAD] [PAD] [PAD] [PAD] [PAD] [PAD] [PAD] [PAD] [PAD] [PAD] [PAD] [PAD] [PAD] [PAD] [PAD] [PAD] [PAD] [PAD] [PAD] [PAD] [PAD] [PAD] [PAD] [PAD] [PAD] [PAD] [PAD] [PAD] [PAD] [PAD] [PAD] [PAD] [PAD] [PAD] [PAD] [PAD] [PAD] [PAD] [PAD] [PAD] [PAD] [PAD] [PAD] [PAD] [PAD] [PAD] [PAD] [PAD] [PAD] [PAD] [PAD] [PAD] [PAD]',\n",
       " '[CLS] 몸길이는 유시충이 2.38 mm이고, 무시충은 2.44mm이다. 유시충은 몸이 연한 황색 또는 연한 녹색이고, 머리와 가슴은 갈색이며, 몸에 못털이 있다. 제3더듬이마디에는 10 18개의 2차감각기가 흩어져 있다. [EOS] [PAD] [PAD] [PAD] [PAD] [PAD] [PAD] [PAD] [PAD] [PAD] [PAD] [PAD] [PAD] [PAD] [PAD] [PAD] [PAD] [PAD] [PAD] [PAD] [PAD] [PAD] [PAD] [PAD] [PAD] [PAD] [PAD] [PAD] [PAD] [PAD] [PAD] [PAD] [PAD] [PAD] [PAD] [PAD] [PAD] [PAD] [PAD] [PAD] [PAD] [PAD] [PAD] [PAD] [PAD] [PAD] [PAD] [PAD] [PAD] [PAD] [PAD] [PAD] [PAD] [PAD] [PAD] [PAD] [PAD] [PAD] [PAD] [PAD] [PAD] [PAD] [PAD] [PAD] [PAD] [PAD] [PAD] [PAD] [PAD] [PAD] [PAD] [PAD] [PAD] [PAD] [PAD] [PAD] [PAD] [PAD] [PAD] [PAD] [PAD] [PAD] [PAD] [PAD] [PAD] [PAD] [PAD] [PAD] [PAD] [PAD] [PAD] [PAD] [PAD] [PAD] [PAD] [PAD] [PAD] [PAD] [PAD] [PAD] [PAD] [PAD] [PAD] [PAD] [PAD] [PAD] [PAD] [PAD] [PAD] [PAD] [PAD] [PAD] [PAD] [PAD] [PAD] [PAD] [PAD] [PAD] [PAD] [PAD] [PAD] [PAD] [PAD] [PAD] [PAD] [PAD] [PAD] [PAD] [PAD] [PAD] [PAD] [PAD] [PAD] [PAD] [PAD] [PAD] [PAD] [PAD] [PAD] [PAD] [PAD] [PAD] [PAD] [PAD] [PAD] [PAD] [PAD] [PAD] [PAD] [PAD] [PAD] [PAD] [PAD] [PAD] [PAD] [PAD] [PAD] [PAD] [PAD] [PAD] [PAD] [PAD] [PAD] [PAD] [PAD] [PAD] [PAD] [PAD] [PAD] [PAD] [PAD] [PAD] [PAD] [PAD] [PAD] [PAD] [PAD] [PAD] [PAD] [PAD] [PAD] [PAD] [PAD] [PAD] [PAD] [PAD] [PAD] [PAD] [PAD] [PAD] [PAD] [PAD] [PAD] [PAD] [PAD] [PAD] [PAD] [PAD] [PAD] [PAD] [PAD] [PAD] [PAD] [PAD] [PAD] [PAD] [PAD] [PAD] [PAD] [PAD] [PAD] [PAD] [PAD] [PAD] [PAD] [PAD] [PAD] [PAD] [PAD] [PAD] [PAD] [PAD] [PAD] [PAD] [PAD] [PAD] [PAD] [PAD] [PAD] [PAD] [PAD] [PAD] [PAD] [PAD] [PAD] [PAD] [PAD] [PAD] [PAD] [PAD] [PAD] [PAD] [PAD] [PAD] [PAD] [PAD] [PAD] [PAD] [PAD] [PAD] [PAD] [PAD] [PAD] [PAD] [PAD] [PAD] [PAD] [PAD] [PAD] [PAD] [PAD] [PAD] [PAD] [PAD] [PAD] [PAD] [PAD] [PAD] [PAD] [PAD] [PAD] [PAD] [PAD] [PAD] [PAD] [PAD] [PAD] [PAD] [PAD] [PAD] [PAD] [PAD] [PAD] [PAD] [PAD] [PAD] [PAD] [PAD] [PAD] [PAD] [PAD] [PAD] [PAD] [PAD] [PAD] [PAD] [PAD] [PAD] [PAD] [PAD] [PAD] [PAD] [PAD] [PAD] [PAD] [PAD] [PAD] [PAD] [PAD] [PAD] [PAD] [PAD] [PAD] [PAD] [PAD] [PAD] [PAD] [PAD] [PAD] [PAD] [PAD] [PAD] [PAD] [PAD] [PAD] [PAD] [PAD] [PAD] [PAD] [PAD] [PAD] [PAD] [PAD] [PAD] [PAD] [PAD] [PAD] [PAD] [PAD] [PAD] [PAD] [PAD] [PAD] [PAD] [PAD] [PAD] [PAD] [PAD] [PAD] [PAD] [PAD] [PAD] [PAD] [PAD] [PAD] [PAD] [PAD] [PAD] [PAD] [PAD] [PAD] [PAD] [PAD] [PAD] [PAD] [PAD] [PAD] [PAD] [PAD] [PAD] [PAD] [PAD] [PAD] [PAD] [PAD] [PAD] [PAD] [PAD] [PAD] [PAD] [PAD] [PAD] [PAD] [PAD] [PAD] [PAD] [PAD] [PAD] [PAD] [PAD] [PAD] [PAD] [PAD] [PAD] [PAD] [PAD] [PAD] [PAD] [PAD] [PAD] [PAD] [PAD] [PAD] [PAD] [PAD] [PAD] [PAD] [PAD] [PAD] [PAD] [PAD] [PAD] [PAD] [PAD] [PAD] [PAD] [PAD] [PAD] [PAD] [PAD] [PAD] [PAD] [PAD] [PAD] [PAD] [PAD] [PAD] [PAD] [PAD] [PAD] [PAD] [PAD] [PAD] [PAD] [PAD] [PAD] [PAD] [PAD] [PAD] [PAD] [PAD] [PAD]',\n",
       " '[CLS] 무시충은 길고 넓은 방추형이며 굵은 못털로 덮여 있다. 이마혹은 발달되었고, 가운데 이마혹도 뚜렷하다. 더듬이는 몸길이보다 길고, 제3더듬이마디에는 희미한 비늘무늬가 있다. 뿔관은 몸길이의 약 4분의 1로 비늘무늬가 있다. 숙주는 타래쑥이다. 한국 중부 및 남부 · 오스트레일리아 · 영국 · 아프리카 등지에 분포한다. [EOS] [PAD] [PAD] [PAD] [PAD] [PAD] [PAD] [PAD] [PAD] [PAD] [PAD] [PAD] [PAD] [PAD] [PAD] [PAD] [PAD] [PAD] [PAD] [PAD] [PAD] [PAD] [PAD] [PAD] [PAD] [PAD] [PAD] [PAD] [PAD] [PAD] [PAD] [PAD] [PAD] [PAD] [PAD] [PAD] [PAD] [PAD] [PAD] [PAD] [PAD] [PAD] [PAD] [PAD] [PAD] [PAD] [PAD] [PAD] [PAD] [PAD] [PAD] [PAD] [PAD] [PAD] [PAD] [PAD] [PAD] [PAD] [PAD] [PAD] [PAD] [PAD] [PAD] [PAD] [PAD] [PAD] [PAD] [PAD] [PAD] [PAD] [PAD] [PAD] [PAD] [PAD] [PAD] [PAD] [PAD] [PAD] [PAD] [PAD] [PAD] [PAD] [PAD] [PAD] [PAD] [PAD] [PAD] [PAD] [PAD] [PAD] [PAD] [PAD] [PAD] [PAD] [PAD] [PAD] [PAD] [PAD] [PAD] [PAD] [PAD] [PAD] [PAD] [PAD] [PAD] [PAD] [PAD] [PAD] [PAD] [PAD] [PAD] [PAD] [PAD] [PAD] [PAD] [PAD] [PAD] [PAD] [PAD] [PAD] [PAD] [PAD] [PAD] [PAD] [PAD] [PAD] [PAD] [PAD] [PAD] [PAD] [PAD] [PAD] [PAD] [PAD] [PAD] [PAD] [PAD] [PAD] [PAD] [PAD] [PAD] [PAD] [PAD] [PAD] [PAD] [PAD] [PAD] [PAD] [PAD] [PAD] [PAD] [PAD] [PAD] [PAD] [PAD] [PAD] [PAD] [PAD] [PAD] [PAD] [PAD] [PAD] [PAD] [PAD] [PAD] [PAD] [PAD] [PAD] [PAD] [PAD] [PAD] [PAD] [PAD] [PAD] [PAD] [PAD] [PAD] [PAD] [PAD] [PAD] [PAD] [PAD] [PAD] [PAD] [PAD] [PAD] [PAD] [PAD] [PAD] [PAD] [PAD] [PAD] [PAD] [PAD] [PAD] [PAD] [PAD] [PAD] [PAD] [PAD] [PAD] [PAD] [PAD] [PAD] [PAD] [PAD] [PAD] [PAD] [PAD] [PAD] [PAD] [PAD] [PAD] [PAD] [PAD] [PAD] [PAD] [PAD] [PAD] [PAD] [PAD] [PAD] [PAD] [PAD] [PAD] [PAD] [PAD] [PAD] [PAD] [PAD] [PAD] [PAD] [PAD] [PAD] [PAD] [PAD] [PAD] [PAD] [PAD] [PAD] [PAD] [PAD] [PAD] [PAD] [PAD] [PAD] [PAD] [PAD] [PAD] [PAD] [PAD] [PAD] [PAD] [PAD] [PAD] [PAD] [PAD] [PAD] [PAD] [PAD] [PAD] [PAD] [PAD] [PAD] [PAD] [PAD] [PAD] [PAD] [PAD] [PAD] [PAD] [PAD] [PAD] [PAD] [PAD] [PAD] [PAD] [PAD] [PAD] [PAD] [PAD] [PAD] [PAD] [PAD] [PAD] [PAD] [PAD] [PAD] [PAD] [PAD] [PAD] [PAD] [PAD] [PAD] [PAD] [PAD] [PAD] [PAD] [PAD] [PAD] [PAD] [PAD] [PAD] [PAD] [PAD] [PAD] [PAD] [PAD] [PAD] [PAD] [PAD] [PAD] [PAD] [PAD] [PAD] [PAD] [PAD] [PAD] [PAD] [PAD] [PAD] [PAD] [PAD] [PAD] [PAD] [PAD] [PAD] [PAD] [PAD] [PAD] [PAD] [PAD] [PAD] [PAD] [PAD] [PAD] [PAD] [PAD] [PAD] [PAD] [PAD] [PAD] [PAD] [PAD] [PAD] [PAD] [PAD] [PAD] [PAD] [PAD] [PAD] [PAD] [PAD] [PAD] [PAD] [PAD] [PAD] [PAD] [PAD] [PAD] [PAD] [PAD] [PAD] [PAD] [PAD] [PAD] [PAD] [PAD] [PAD] [PAD] [PAD] [PAD] [PAD] [PAD] [PAD] [PAD] [PAD] [PAD] [PAD] [PAD] [PAD] [PAD] [PAD] [PAD] [PAD] [PAD] [PAD] [PAD] [PAD] [PAD] [PAD] [PAD] [PAD] [PAD] [PAD] [PAD] [PAD] [PAD] [PAD] [PAD] [PAD] [PAD] [PAD] [PAD] [PAD] [PAD] [PAD] [PAD] [PAD] [PAD] [PAD] [PAD] [PAD] [PAD] [PAD] [PAD] [PAD]',\n",
       " '[CLS] 습지에서 자란다. 줄기의 길이는 3 10cm로 옆으로 기는줄기이다. 줄기의 밑부분은 갈라지고 털이 없으며 윗부분은 곧게 선다. 잎은 길이 5 10mm의 좁은 바소꼴 또는 줄 모양으로, 3 4개가 돌려나고 가장자리가 밋밋하며 잎자루는 없다. [EOS] [PAD] [PAD] [PAD] [PAD] [PAD] [PAD] [PAD] [PAD] [PAD] [PAD] [PAD] [PAD] [PAD] [PAD] [PAD] [PAD] [PAD] [PAD] [PAD] [PAD] [PAD] [PAD] [PAD] [PAD] [PAD] [PAD] [PAD] [PAD] [PAD] [PAD] [PAD] [PAD] [PAD] [PAD] [PAD] [PAD] [PAD] [PAD] [PAD] [PAD] [PAD] [PAD] [PAD] [PAD] [PAD] [PAD] [PAD] [PAD] [PAD] [PAD] [PAD] [PAD] [PAD] [PAD] [PAD] [PAD] [PAD] [PAD] [PAD] [PAD] [PAD] [PAD] [PAD] [PAD] [PAD] [PAD] [PAD] [PAD] [PAD] [PAD] [PAD] [PAD] [PAD] [PAD] [PAD] [PAD] [PAD] [PAD] [PAD] [PAD] [PAD] [PAD] [PAD] [PAD] [PAD] [PAD] [PAD] [PAD] [PAD] [PAD] [PAD] [PAD] [PAD] [PAD] [PAD] [PAD] [PAD] [PAD] [PAD] [PAD] [PAD] [PAD] [PAD] [PAD] [PAD] [PAD] [PAD] [PAD] [PAD] [PAD] [PAD] [PAD] [PAD] [PAD] [PAD] [PAD] [PAD] [PAD] [PAD] [PAD] [PAD] [PAD] [PAD] [PAD] [PAD] [PAD] [PAD] [PAD] [PAD] [PAD] [PAD] [PAD] [PAD] [PAD] [PAD] [PAD] [PAD] [PAD] [PAD] [PAD] [PAD] [PAD] [PAD] [PAD] [PAD] [PAD] [PAD] [PAD] [PAD] [PAD] [PAD] [PAD] [PAD] [PAD] [PAD] [PAD] [PAD] [PAD] [PAD] [PAD] [PAD] [PAD] [PAD] [PAD] [PAD] [PAD] [PAD] [PAD] [PAD] [PAD] [PAD] [PAD] [PAD] [PAD] [PAD] [PAD] [PAD] [PAD] [PAD] [PAD] [PAD] [PAD] [PAD] [PAD] [PAD] [PAD] [PAD] [PAD] [PAD] [PAD] [PAD] [PAD] [PAD] [PAD] [PAD] [PAD] [PAD] [PAD] [PAD] [PAD] [PAD] [PAD] [PAD] [PAD] [PAD] [PAD] [PAD] [PAD] [PAD] [PAD] [PAD] [PAD] [PAD] [PAD] [PAD] [PAD] [PAD] [PAD] [PAD] [PAD] [PAD] [PAD] [PAD] [PAD] [PAD] [PAD] [PAD] [PAD] [PAD] [PAD] [PAD] [PAD] [PAD] [PAD] [PAD] [PAD] [PAD] [PAD] [PAD] [PAD] [PAD] [PAD] [PAD] [PAD] [PAD] [PAD] [PAD] [PAD] [PAD] [PAD] [PAD] [PAD] [PAD] [PAD] [PAD] [PAD] [PAD] [PAD] [PAD] [PAD] [PAD] [PAD] [PAD] [PAD] [PAD] [PAD] [PAD] [PAD] [PAD] [PAD] [PAD] [PAD] [PAD] [PAD] [PAD] [PAD] [PAD] [PAD] [PAD] [PAD] [PAD] [PAD] [PAD] [PAD] [PAD] [PAD] [PAD] [PAD] [PAD] [PAD] [PAD] [PAD] [PAD] [PAD] [PAD] [PAD] [PAD] [PAD] [PAD] [PAD] [PAD] [PAD] [PAD] [PAD] [PAD] [PAD] [PAD] [PAD] [PAD] [PAD] [PAD] [PAD] [PAD] [PAD] [PAD] [PAD] [PAD] [PAD] [PAD] [PAD] [PAD] [PAD] [PAD] [PAD] [PAD] [PAD] [PAD] [PAD] [PAD] [PAD] [PAD] [PAD] [PAD] [PAD] [PAD] [PAD] [PAD] [PAD] [PAD] [PAD] [PAD] [PAD] [PAD] [PAD] [PAD] [PAD] [PAD] [PAD] [PAD] [PAD] [PAD] [PAD] [PAD] [PAD] [PAD] [PAD] [PAD] [PAD] [PAD] [PAD] [PAD] [PAD] [PAD] [PAD] [PAD] [PAD] [PAD] [PAD] [PAD] [PAD] [PAD] [PAD] [PAD] [PAD] [PAD] [PAD] [PAD] [PAD] [PAD] [PAD] [PAD] [PAD] [PAD] [PAD] [PAD] [PAD] [PAD] [PAD] [PAD] [PAD] [PAD] [PAD] [PAD] [PAD] [PAD] [PAD] [PAD] [PAD] [PAD] [PAD] [PAD] [PAD] [PAD] [PAD] [PAD] [PAD] [PAD] [PAD] [PAD] [PAD] [PAD] [PAD] [PAD] [PAD] [PAD] [PAD] [PAD] [PAD] [PAD] [PAD] [PAD] [PAD] [PAD] [PAD] [PAD] [PAD] [PAD] [PAD] [PAD] [PAD] [PAD] [PAD] [PAD] [PAD] [PAD] [PAD]']"
      ]
     },
     "execution_count": 13,
     "metadata": {},
     "output_type": "execute_result"
    }
   ],
   "source": [
    "tokenizer.batch_decode(data[0:11])"
   ]
  },
  {
   "cell_type": "code",
   "execution_count": null,
   "id": "170b697b-cb80-41a8-bc73-cf80d5189494",
   "metadata": {},
   "outputs": [],
   "source": []
  },
  {
   "cell_type": "code",
   "execution_count": null,
   "id": "b6329497-6273-4abd-b1a1-16951590954f",
   "metadata": {},
   "outputs": [],
   "source": [
    "# data = \"\"\"국내 제약업계는 매출액의 95%이상을 내수에 의존하는 전형적인 내수 중심의 산업으로 산업의 특성상 기술집약적 연구개발이 그성장의 바탕이며 거액의 판매비용을 수반하는 일반및 전문의약품 중심\n",
    "# 으로 시장이 형성되어있다. 의약품은 국민보건과 직결되어 있어 제품개발로부터 출시되기까지 수많은 시험 및 검사과정을 거쳐야 하고 만성적인 공급초과 현상이 빚어져 제약산업은 타 산업에 비해 \n",
    "# 운전자금 부담이 큰편이다. 제약산업은 gnp 성장에 따른 보건복지비용의 지출확대로 그 시장규모가 꾸준히 신장될 것이나 시장개방, 물질특허제도, 신약재심사제도등에 따른 복제약품 개발한계로 자\n",
    "# 체 기술력이 취약한 업체는 경쟁력 약화가 예상된다. 또한 의약분업, 완 제수입의약품의 보험약가등재, 보험의약품의 실거래가 상환제, 판매자가격표시제(rpls), 의약외품의 약국외 판매, 포괄수가제\n",
    "# , 물류조합설립,의약품유통종합정보시스템 등의 급격한 환경변화에 따라 항생제를 중심으로한 약품수요의 감소, 제약업소 및 도매상의 감소, 신약개발의 가속화, 가격경쟁에서 제품경쟁으로의 전환 \n",
    "# 등이 예상되고 있다. 근래에 각 업체들은 무리한 외형성장을 지양하고 내실경영에 주력하면서 장기적 성장의 바탕인 연구개발투자를 확대하고 있어 의약품의 품질 향상과함께 정부 및 민간업체 주도\n",
    "# 의 신물질 개발의 연구가 상당부분 진척되고 전국민 건강보험제도의 확대정착으로 지속적인 성장이 기대된다. 치료제 중심의 병원용 의약품은 경기변동의 영향이 크지 않으나, 일반 대중의약품은 경\n",
    "# 기변동과 계절적 요인에 따른 영향을 비교적 많이 받는다. (4) 경쟁요소자본의 영세성으로 인하여 시장진입이 비교적 용이한 완전 경쟁 시장이므로 의약품 시장의 전면 개방으로 기존 합작사들의 경\n",
    "# 영권 변동및 영업 강화가 예상되며 자금력을 앞세운 다국적 제약업체의 신규참여가 가속화되고 있고 국내의 대기업들도 제약산업에 속속 참여 하고있어 향후 경쟁이 치열해질것으로 예상된다.\"\"\""
   ]
  },
  {
   "cell_type": "code",
   "execution_count": null,
   "id": "6c435a0a-b2b0-47ee-959c-c2d49ce15056",
   "metadata": {},
   "outputs": [],
   "source": [
    "a = tokenizer.batch_encode_plus(text[0:10],\n",
    "    padding='max_length', #'max_length'\n",
    "    max_length=512,\n",
    "    truncation=True,\n",
    "    #add_special_tokens=False,\n",
    "    return_tensors='pt')['input_ids']"
   ]
  },
  {
   "cell_type": "code",
   "execution_count": 27,
   "id": "e18bdcb5-8b6c-4bb3-86b4-4803e6ff9086",
   "metadata": {},
   "outputs": [
    {
     "data": {
      "text/plain": [
       "tensor(5120)"
      ]
     },
     "execution_count": 27,
     "metadata": {},
     "output_type": "execute_result"
    }
   ],
   "source": [
    "sum(sum(data[0:10] == a))"
   ]
  },
  {
   "cell_type": "code",
   "execution_count": null,
   "id": "85cf978f-34e1-40a6-a40c-e8398ae289e4",
   "metadata": {},
   "outputs": [],
   "source": []
  },
  {
   "cell_type": "code",
   "execution_count": 56,
   "id": "a61fe2cf-d000-4b03-bc8f-c273b5e8a9ef",
   "metadata": {},
   "outputs": [
    {
     "data": {
      "text/plain": [
       "'시골 노인들의 음독자살을 막겠다고 도내 농촌지역 곳곳에 설치된 농약빈병수거함이 설치 이후 수거를 제때 안 하며 잔류농약이 담긴 병들로 잔뜩 쌓인 채 방치된 것으로 드러났다.\\n'"
      ]
     },
     "execution_count": 56,
     "metadata": {},
     "output_type": "execute_result"
    }
   ],
   "source": [
    "text[-12]"
   ]
  },
  {
   "cell_type": "code",
   "execution_count": null,
   "id": "f8bc4699-ad50-43d9-aec2-e97ed06a9950",
   "metadata": {},
   "outputs": [],
   "source": [
    "\n"
   ]
  },
  {
   "cell_type": "code",
   "execution_count": 14,
   "id": "353dcfe5-ff36-4201-a858-c01d7b9508e7",
   "metadata": {},
   "outputs": [],
   "source": [
    "import os\n",
    "import random \n",
    "\n"
   ]
  },
  {
   "cell_type": "code",
   "execution_count": 15,
   "id": "410bfac8-b349-4a18-b10a-425cfe5d8466",
   "metadata": {},
   "outputs": [],
   "source": [
    "file_list = os.listdir('h5py_dataset')\n"
   ]
  },
  {
   "cell_type": "code",
   "execution_count": 16,
   "id": "80bbc9f3-ca7d-43e8-9fe1-1351f9b3ef75",
   "metadata": {},
   "outputs": [
    {
     "data": {
      "text/plain": [
       "['h5py_data_108.h5py',\n",
       " 'h5py_data_001.h5py',\n",
       " 'h5py_data_133.h5py',\n",
       " 'h5py_data_204.h5py',\n",
       " 'h5py_data_063.h5py',\n",
       " 'h5py_data_202.h5py',\n",
       " 'h5py_data_085.h5py',\n",
       " 'h5py_data_072.h5py',\n",
       " 'h5py_data_006.h5py',\n",
       " 'h5py_data_091.h5py',\n",
       " 'h5py_data_005.h5py',\n",
       " 'h5py_data_047.h5py',\n",
       " 'h5py_data_020.h5py',\n",
       " 'h5py_data_103.h5py',\n",
       " 'h5py_data_254.h5py',\n",
       " 'h5py_data_058.h5py',\n",
       " 'h5py_data_140.h5py',\n",
       " 'h5py_data_009.h5py',\n",
       " 'h5py_data_175.h5py',\n",
       " 'h5py_data_167.h5py',\n",
       " 'h5py_data_071.h5py',\n",
       " 'h5py_data_208.h5py',\n",
       " 'h5py_data_087.h5py',\n",
       " 'h5py_data_214.h5py',\n",
       " 'h5py_data_080.h5py',\n",
       " 'h5py_data_043.h5py',\n",
       " 'h5py_data_225.h5py',\n",
       " 'h5py_data_102.h5py',\n",
       " 'h5py_data_240.h5py',\n",
       " 'h5py_data_192.h5py',\n",
       " 'h5py_data_158.h5py',\n",
       " 'h5py_data_155.h5py',\n",
       " 'h5py_data_188.h5py',\n",
       " 'h5py_data_138.h5py',\n",
       " 'h5py_data_222.h5py',\n",
       " 'h5py_data_060.h5py',\n",
       " 'h5py_data_088.h5py',\n",
       " 'h5py_data_048.h5py',\n",
       " 'h5py_data_216.h5py',\n",
       " 'h5py_data_041.h5py',\n",
       " 'h5py_data_013.h5py',\n",
       " 'h5py_data_203.h5py',\n",
       " 'h5py_data_036.h5py',\n",
       " 'h5py_data_238.h5py',\n",
       " 'h5py_data_051.h5py',\n",
       " 'h5py_data_090.h5py',\n",
       " 'h5py_data_116.h5py',\n",
       " 'h5py_data_053.h5py',\n",
       " 'h5py_data_234.h5py',\n",
       " 'h5py_data_248.h5py',\n",
       " 'h5py_data_113.h5py',\n",
       " 'h5py_data_165.h5py',\n",
       " 'h5py_data_115.h5py',\n",
       " 'h5py_data_093.h5py',\n",
       " 'h5py_data_017.h5py',\n",
       " 'h5py_data_117.h5py',\n",
       " 'h5py_data_069.h5py',\n",
       " 'h5py_data_056.h5py',\n",
       " 'h5py_data_250.h5py',\n",
       " 'h5py_data_054.h5py',\n",
       " 'h5py_data_177.h5py',\n",
       " 'h5py_data_025.h5py',\n",
       " 'h5py_data_070.h5py',\n",
       " 'h5py_data_191.h5py',\n",
       " 'h5py_data_220.h5py',\n",
       " 'h5py_data_215.h5py',\n",
       " 'h5py_data_161.h5py',\n",
       " 'h5py_data_189.h5py',\n",
       " 'h5py_data_249.h5py',\n",
       " 'h5py_data_148.h5py',\n",
       " 'h5py_data_122.h5py',\n",
       " 'h5py_data_112.h5py',\n",
       " 'h5py_data_126.h5py',\n",
       " 'h5py_data_241.h5py',\n",
       " 'h5py_data_008.h5py',\n",
       " 'h5py_data_109.h5py',\n",
       " 'h5py_data_096.h5py',\n",
       " 'h5py_data_066.h5py',\n",
       " 'h5py_data_255.h5py',\n",
       " 'h5py_data_073.h5py',\n",
       " 'h5py_data_166.h5py',\n",
       " 'h5py_data_224.h5py',\n",
       " 'h5py_data_181.h5py',\n",
       " 'h5py_data_124.h5py',\n",
       " 'h5py_data_230.h5py',\n",
       " 'h5py_data_052.h5py',\n",
       " 'h5py_data_121.h5py',\n",
       " 'h5py_data_196.h5py',\n",
       " 'h5py_data_081.h5py',\n",
       " 'h5py_data_084.h5py',\n",
       " 'h5py_data_097.h5py',\n",
       " 'h5py_data_186.h5py',\n",
       " 'h5py_data_229.h5py',\n",
       " 'h5py_data_219.h5py',\n",
       " 'h5py_data_062.h5py',\n",
       " 'h5py_data_159.h5py',\n",
       " 'h5py_data_201.h5py',\n",
       " 'h5py_data_199.h5py',\n",
       " 'h5py_data_253.h5py',\n",
       " 'h5py_data_205.h5py',\n",
       " 'h5py_data_239.h5py',\n",
       " 'h5py_data_094.h5py',\n",
       " 'h5py_data_077.h5py',\n",
       " 'h5py_data_226.h5py',\n",
       " 'h5py_data_022.h5py',\n",
       " 'h5py_data_039.h5py',\n",
       " 'h5py_data_144.h5py',\n",
       " 'h5py_data_171.h5py',\n",
       " 'h5py_data_252.h5py',\n",
       " 'h5py_data_107.h5py',\n",
       " 'h5py_data_118.h5py',\n",
       " 'h5py_data_217.h5py',\n",
       " 'h5py_data_232.h5py',\n",
       " 'h5py_data_178.h5py',\n",
       " 'h5py_data_014.h5py',\n",
       " 'h5py_data_223.h5py',\n",
       " 'h5py_data_042.h5py',\n",
       " 'h5py_data_061.h5py',\n",
       " 'h5py_data_026.h5py',\n",
       " 'h5py_data_185.h5py',\n",
       " 'h5py_data_139.h5py',\n",
       " 'h5py_data_106.h5py',\n",
       " 'h5py_data_110.h5py',\n",
       " 'h5py_data_164.h5py',\n",
       " 'h5py_data_023.h5py',\n",
       " 'h5py_data_034.h5py',\n",
       " 'h5py_data_120.h5py',\n",
       " 'h5py_data_176.h5py',\n",
       " 'h5py_data_134.h5py',\n",
       " 'h5py_data_251.h5py',\n",
       " 'h5py_data_044.h5py',\n",
       " 'h5py_data_099.h5py',\n",
       " 'h5py_data_153.h5py',\n",
       " 'h5py_data_011.h5py',\n",
       " 'h5py_data_173.h5py',\n",
       " 'h5py_data_132.h5py',\n",
       " 'h5py_data_105.h5py',\n",
       " 'h5py_data_038.h5py',\n",
       " 'h5py_data_235.h5py',\n",
       " 'h5py_data_236.h5py',\n",
       " 'h5py_data_050.h5py',\n",
       " 'h5py_data_127.h5py',\n",
       " 'h5py_data_151.h5py',\n",
       " 'h5py_data_104.h5py',\n",
       " 'h5py_data_243.h5py',\n",
       " 'h5py_data_179.h5py',\n",
       " 'h5py_data_100.h5py',\n",
       " 'h5py_data_147.h5py',\n",
       " 'h5py_data_180.h5py',\n",
       " 'h5py_data_040.h5py',\n",
       " 'h5py_data_168.h5py',\n",
       " 'h5py_data_007.h5py',\n",
       " 'h5py_data_131.h5py',\n",
       " 'h5py_data_019.h5py',\n",
       " 'h5py_data_083.h5py',\n",
       " 'h5py_data_057.h5py',\n",
       " 'h5py_data_246.h5py',\n",
       " 'h5py_data_194.h5py',\n",
       " 'h5py_data_142.h5py',\n",
       " 'h5py_data_163.h5py',\n",
       " 'h5py_data_018.h5py',\n",
       " 'h5py_data_233.h5py',\n",
       " 'h5py_data_152.h5py',\n",
       " 'h5py_data_150.h5py',\n",
       " 'h5py_data_082.h5py',\n",
       " 'h5py_data_111.h5py',\n",
       " 'h5py_data_125.h5py',\n",
       " 'h5py_data_143.h5py',\n",
       " 'h5py_data_231.h5py',\n",
       " 'h5py_data_174.h5py',\n",
       " 'h5py_data_206.h5py',\n",
       " 'h5py_data_170.h5py',\n",
       " 'h5py_data_098.h5py',\n",
       " 'h5py_data_200.h5py',\n",
       " 'h5py_data_212.h5py',\n",
       " 'h5py_data_079.h5py',\n",
       " 'h5py_data_059.h5py',\n",
       " 'h5py_data_119.h5py',\n",
       " 'h5py_data_213.h5py',\n",
       " 'h5py_data_209.h5py',\n",
       " 'h5py_data_065.h5py',\n",
       " 'h5py_data_211.h5py',\n",
       " 'h5py_data_129.h5py',\n",
       " 'h5py_data_003.h5py',\n",
       " 'h5py_data_033.h5py',\n",
       " 'h5py_data_218.h5py',\n",
       " 'h5py_data_028.h5py',\n",
       " 'h5py_data_197.h5py',\n",
       " 'h5py_data_169.h5py',\n",
       " 'h5py_data_074.h5py',\n",
       " 'h5py_data_024.h5py',\n",
       " 'h5py_data_157.h5py',\n",
       " 'h5py_data_021.h5py',\n",
       " 'h5py_data_049.h5py',\n",
       " 'h5py_data_187.h5py',\n",
       " 'h5py_data_136.h5py',\n",
       " 'h5py_data_130.h5py',\n",
       " 'h5py_data_029.h5py',\n",
       " 'h5py_data_027.h5py',\n",
       " 'h5py_data_207.h5py',\n",
       " 'h5py_data_046.h5py',\n",
       " 'h5py_data_075.h5py',\n",
       " 'h5py_data_076.h5py',\n",
       " 'h5py_data_095.h5py',\n",
       " 'h5py_data_182.h5py',\n",
       " 'h5py_data_154.h5py',\n",
       " 'h5py_data_035.h5py',\n",
       " 'h5py_data_045.h5py',\n",
       " 'h5py_data_016.h5py',\n",
       " 'h5py_data_002.h5py',\n",
       " 'h5py_data_032.h5py',\n",
       " 'h5py_data_114.h5py',\n",
       " 'h5py_data_101.h5py',\n",
       " 'h5py_data_198.h5py',\n",
       " 'h5py_data_030.h5py',\n",
       " 'h5py_data_089.h5py',\n",
       " 'h5py_data_067.h5py',\n",
       " 'h5py_data_160.h5py',\n",
       " 'h5py_data_221.h5py',\n",
       " 'h5py_data_172.h5py',\n",
       " 'h5py_data_183.h5py',\n",
       " 'h5py_data_015.h5py',\n",
       " 'h5py_data_123.h5py',\n",
       " 'h5py_data_000.h5py',\n",
       " 'h5py_data_156.h5py',\n",
       " 'h5py_data_146.h5py',\n",
       " 'h5py_data_086.h5py',\n",
       " 'h5py_data_037.h5py',\n",
       " 'h5py_data_149.h5py',\n",
       " 'h5py_data_162.h5py',\n",
       " 'h5py_data_190.h5py',\n",
       " 'h5py_data_242.h5py',\n",
       " 'h5py_data_195.h5py',\n",
       " 'h5py_data_141.h5py',\n",
       " 'h5py_data_031.h5py',\n",
       " 'h5py_data_228.h5py',\n",
       " 'h5py_data_247.h5py',\n",
       " 'h5py_data_128.h5py',\n",
       " 'h5py_data_135.h5py',\n",
       " 'h5py_data_092.h5py',\n",
       " 'h5py_data_145.h5py',\n",
       " 'h5py_data_137.h5py',\n",
       " 'h5py_data_210.h5py',\n",
       " 'h5py_data_010.h5py',\n",
       " 'h5py_data_078.h5py',\n",
       " 'h5py_data_227.h5py',\n",
       " 'h5py_data_245.h5py',\n",
       " 'h5py_data_004.h5py',\n",
       " 'h5py_data_012.h5py',\n",
       " 'h5py_data_193.h5py',\n",
       " 'h5py_data_237.h5py',\n",
       " 'h5py_data_244.h5py',\n",
       " 'h5py_data_068.h5py',\n",
       " 'h5py_data_064.h5py',\n",
       " 'h5py_data_184.h5py',\n",
       " 'h5py_data_055.h5py']"
      ]
     },
     "execution_count": 16,
     "metadata": {},
     "output_type": "execute_result"
    }
   ],
   "source": [
    "file_list"
   ]
  },
  {
   "cell_type": "code",
   "execution_count": 17,
   "id": "a1955c67-8843-455a-98b7-287fc5b4c4ff",
   "metadata": {},
   "outputs": [],
   "source": [
    "random.shuffle(file_list)"
   ]
  },
  {
   "cell_type": "code",
   "execution_count": null,
   "id": "cd4fe339-a8cb-4953-bc30-0e76abd480fc",
   "metadata": {},
   "outputs": [],
   "source": []
  },
  {
   "cell_type": "code",
   "execution_count": 19,
   "id": "fa285598-2953-4e97-9fbd-b6795fd123de",
   "metadata": {},
   "outputs": [
    {
     "ename": "ModuleNotFoundError",
     "evalue": "No module named 'noise_function'",
     "output_type": "error",
     "traceback": [
      "\u001b[0;31m---------------------------------------------------------------------------\u001b[0m",
      "\u001b[0;31mModuleNotFoundError\u001b[0m                       Traceback (most recent call last)",
      "\u001b[0;32m<ipython-input-19-d4167f30dbd3>\u001b[0m in \u001b[0;36m<module>\u001b[0;34m\u001b[0m\n\u001b[0;32m----> 1\u001b[0;31m \u001b[0;32mfrom\u001b[0m \u001b[0mbart\u001b[0m\u001b[0;34m.\u001b[0m\u001b[0mdataloader\u001b[0m \u001b[0;32mimport\u001b[0m \u001b[0mh5pyDataset\u001b[0m\u001b[0;34m,\u001b[0m \u001b[0mh5pyBatchGenerator\u001b[0m\u001b[0;34m,\u001b[0m \u001b[0mget_dataloader\u001b[0m\u001b[0;34m\u001b[0m\u001b[0;34m\u001b[0m\u001b[0m\n\u001b[0m",
      "\u001b[0;32m~/bart/dataloader.py\u001b[0m in \u001b[0;36m<module>\u001b[0;34m\u001b[0m\n\u001b[1;32m      6\u001b[0m \u001b[0;32mimport\u001b[0m \u001b[0mnumpy\u001b[0m \u001b[0;32mas\u001b[0m \u001b[0mnp\u001b[0m\u001b[0;34m\u001b[0m\u001b[0;34m\u001b[0m\u001b[0m\n\u001b[1;32m      7\u001b[0m \u001b[0;32mimport\u001b[0m \u001b[0mpandas\u001b[0m \u001b[0;32mas\u001b[0m \u001b[0mpd\u001b[0m\u001b[0;34m\u001b[0m\u001b[0;34m\u001b[0m\u001b[0m\n\u001b[0;32m----> 8\u001b[0;31m \u001b[0;32mfrom\u001b[0m \u001b[0mnoise_function\u001b[0m \u001b[0;32mimport\u001b[0m \u001b[0mBart_noising\u001b[0m\u001b[0;34m\u001b[0m\u001b[0;34m\u001b[0m\u001b[0m\n\u001b[0m\u001b[1;32m      9\u001b[0m \u001b[0;32mimport\u001b[0m \u001b[0mcopy\u001b[0m\u001b[0;34m\u001b[0m\u001b[0;34m\u001b[0m\u001b[0m\n\u001b[1;32m     10\u001b[0m \u001b[0;32mimport\u001b[0m \u001b[0mtorch\u001b[0m\u001b[0;34m.\u001b[0m\u001b[0mnn\u001b[0m\u001b[0;34m.\u001b[0m\u001b[0mfunctional\u001b[0m \u001b[0;32mas\u001b[0m \u001b[0mF\u001b[0m\u001b[0;34m\u001b[0m\u001b[0;34m\u001b[0m\u001b[0m\n",
      "\u001b[0;31mModuleNotFoundError\u001b[0m: No module named 'noise_function'"
     ]
    }
   ],
   "source": [
    "from bart.dataloader import h5pyDataset, h5pyBatchGenerator, get_dataloader\n"
   ]
  },
  {
   "cell_type": "code",
   "execution_count": null,
   "id": "4ad18634-39dd-42fa-8588-70d1b3d73053",
   "metadata": {},
   "outputs": [],
   "source": []
  }
 ],
 "metadata": {
  "kernelspec": {
   "display_name": "torch-xla-1.9",
   "language": "python",
   "name": "torch-xla-1.9"
  },
  "language_info": {
   "codemirror_mode": {
    "name": "ipython",
    "version": 3
   },
   "file_extension": ".py",
   "mimetype": "text/x-python",
   "name": "python",
   "nbconvert_exporter": "python",
   "pygments_lexer": "ipython3",
   "version": "3.7.10"
  }
 },
 "nbformat": 4,
 "nbformat_minor": 5
}
